{
 "cells": [
  {
   "cell_type": "markdown",
   "metadata": {},
   "source": [
    "### <center>Ângelo Pascoal Figueiral, 44645</center>"
   ]
  },
  {
   "cell_type": "markdown",
   "metadata": {},
   "source": [
    "# Assignment 3\n",
    "\n",
    "The assignment 3 contains 1 question and the due date is April 18th (Sunday) 23:59PM."
   ]
  },
  {
   "cell_type": "markdown",
   "metadata": {},
   "source": [
    "## Question 1 \n",
    "\n",
    "We use true financial audit dataset for modelling productive and non-productive audits of a person's financial statement. A productive audit is one which identifies errors or inaccuracies in the information provided by a client. A non-productive audit is usually an audit which found all supplied information to be in order.\n",
    "\n",
    "\n",
    "- Age: The age.\n",
    "- Employment: The type of employment.\n",
    "- Education: The highest level of education.\n",
    "- Marital: Current marital status.\n",
    "- Occupation: The type of occupation.\n",
    "- Income: The amount of income declared.\n",
    "- Gender: The persons gender.\n",
    "- Deductions: Total amount of expenses that a person claims in their financial statement.\n",
    "- Hours: The average hours worked on a weekly basis.\n",
    "- TARGET_Adjusted: This is a numeric field of class integer, but limited to 0 and 1, indicating non-productive and productive audits, respectively. Productive audits are those that result in an adjustment being made to a client's financial statement."
   ]
  },
  {
   "cell_type": "markdown",
   "metadata": {
    "tags": []
   },
   "source": [
    "### Question 1.1 (20 points)\n",
    "Read the data from audit.csv. Implement a preprocessing pipeline to separately transform the categorical features `Employment`, `Education`, `Marital`, `Occuptation`, `Gender`, `Deduction` and numeric features `Income` and `Hours`. For categorical features, perform one-hot encoding. For numerical features, perform standardization. For `Age`, build a custom transformer to make the age group feature [17-30, 30-50, 50-83] and then one-hot encode the age group. Report the shape of the transformed train set."
   ]
  },
  {
   "cell_type": "code",
   "execution_count": 30,
   "metadata": {},
   "outputs": [
    {
     "name": "stdout",
     "output_type": "stream",
     "text": [
      "X_train shape:(1519, 9)\n",
      "X_test shape:(380, 9)\n",
      "y_train shape:(1519,)\n",
      "y_test shape:(380,)\n"
     ]
    }
   ],
   "source": [
    "import warnings\n",
    "warnings.filterwarnings('ignore')\n",
    "import pandas as pd\n",
    "import numpy as np\n",
    "from sklearn.model_selection import train_test_split\n",
    "\n",
    "audit = pd.read_csv('audit.csv')\n",
    "audit.head()\n",
    "\n",
    "X, y = audit.loc[:,'Age':'Hours'], audit.loc[:,'Adjusted']\n",
    "X_train, X_test, y_train, y_test = train_test_split(X, y, test_size=0.2, random_state=0)\n",
    "\n",
    "print(f\"X_train shape:{X_train.shape}\\nX_test shape:{X_test.shape}\\ny_train shape:{y_train.shape}\\ny_test shape:{y_test.shape}\")"
   ]
  },
  {
   "cell_type": "code",
   "execution_count": 31,
   "metadata": {},
   "outputs": [
    {
     "data": {
      "text/html": [
       "<div>\n",
       "<style scoped>\n",
       "    .dataframe tbody tr th:only-of-type {\n",
       "        vertical-align: middle;\n",
       "    }\n",
       "\n",
       "    .dataframe tbody tr th {\n",
       "        vertical-align: top;\n",
       "    }\n",
       "\n",
       "    .dataframe thead th {\n",
       "        text-align: right;\n",
       "    }\n",
       "</style>\n",
       "<table border=\"1\" class=\"dataframe\">\n",
       "  <thead>\n",
       "    <tr style=\"text-align: right;\">\n",
       "      <th></th>\n",
       "      <th>Age</th>\n",
       "      <th>Employment</th>\n",
       "      <th>Education</th>\n",
       "      <th>Marital</th>\n",
       "      <th>Occupation</th>\n",
       "      <th>Income</th>\n",
       "      <th>Gender</th>\n",
       "      <th>Deductions</th>\n",
       "      <th>Hours</th>\n",
       "      <th>Adjusted</th>\n",
       "    </tr>\n",
       "  </thead>\n",
       "  <tbody>\n",
       "  </tbody>\n",
       "</table>\n",
       "</div>"
      ],
      "text/plain": [
       "Empty DataFrame\n",
       "Columns: [Age, Employment, Education, Marital, Occupation, Income, Gender, Deductions, Hours, Adjusted]\n",
       "Index: []"
      ]
     },
     "execution_count": 31,
     "metadata": {},
     "output_type": "execute_result"
    }
   ],
   "source": [
    "# Checking if there are any missing values\n",
    "audit_incomplete_rows = audit[audit.isnull().any(axis=1)]\n",
    "audit_incomplete_rows\n",
    "\n",
    "#there are no missing values, meaning we can proceed"
   ]
  },
  {
   "cell_type": "code",
   "execution_count": 32,
   "metadata": {},
   "outputs": [],
   "source": [
    "from sklearn.pipeline import Pipeline, FeatureUnion\n",
    "from sklearn.preprocessing import StandardScaler, OneHotEncoder, FunctionTransformer\n",
    "from sklearn.compose import ColumnTransformer\n",
    "from sklearn.impute import SimpleImputer\n",
    "from sklearn.base import BaseEstimator, TransformerMixin\n",
    "\n",
    "num_attribs = ['Income', 'Hours']\n",
    "cat_attribs = ['Employment', 'Education', 'Marital', 'Occupation', 'Gender', 'Deductions']\n",
    "    \n",
    "\n",
    "\n",
    "# creating function to create the bins for the age data\n",
    "def age_bins_creator(col):\n",
    "    ages = pd.DataFrame(data = col, columns = ['Age'])\n",
    "    age_cats = pd.cut(ages[\"Age\"], bins=[17., 30., 50., 83.], right= False, labels=['17-30', '30-50', '50-83'])\n",
    "    age_cats_df = pd.DataFrame(data = age_cats, columns = ['Age'])\n",
    "    return age_cats_df\n",
    "\n",
    "\n",
    "# creating a class to select numerical and categorical columns \n",
    "class DataFrameSelector(BaseEstimator, TransformerMixin):\n",
    "    def __init__(self, attribute_names):\n",
    "        self.attribute_names = attribute_names\n",
    "    def fit(self, X, y=None):\n",
    "        return self\n",
    "    def transform(self, X):\n",
    "        return X[self.attribute_names].values    \n",
    "    \n",
    "    \n",
    "age_pipeline = Pipeline([\n",
    "    ('selector', DataFrameSelector(['Age'])),\n",
    "    ('age_transformer', FunctionTransformer(age_bins_creator, validate = False)),\n",
    "    ('imputer', SimpleImputer(strategy=\"most_frequent\")),\n",
    "    ('age_enconder', OneHotEncoder(sparse=False,handle_unknown = \"ignore\")),\n",
    "])\n",
    "\n",
    "num_pipeline = Pipeline([\n",
    "        ('selector', DataFrameSelector(num_attribs)),\n",
    "        ('imputer', SimpleImputer(strategy=\"median\")),\n",
    "        ('std_scaler', StandardScaler()),\n",
    "    ])\n",
    "\n",
    "cat_pipeline = Pipeline([\n",
    "        ('selector', DataFrameSelector(cat_attribs)),\n",
    "        ('cat_encoder', OneHotEncoder(sparse=False,handle_unknown = \"ignore\")),\n",
    "])\n",
    "\n",
    "pre_processing_pipeline = FeatureUnion(transformer_list=[\n",
    "        ('age_pipeline', age_pipeline),\n",
    "        (\"num_pipeline\", num_pipeline),\n",
    "        (\"cat_pipeline\", cat_pipeline),\n",
    "    ])"
   ]
  },
  {
   "cell_type": "code",
   "execution_count": 33,
   "metadata": {},
   "outputs": [],
   "source": [
    "# Applying the pipeline\n",
    "from sklearn.pipeline import FeatureUnion\n",
    "\n",
    "audit_prepared = pre_processing_pipeline.fit_transform(X)"
   ]
  },
  {
   "cell_type": "code",
   "execution_count": 34,
   "metadata": {},
   "outputs": [
    {
     "data": {
      "text/plain": [
       "52"
      ]
     },
     "execution_count": 34,
     "metadata": {},
     "output_type": "execute_result"
    }
   ],
   "source": [
    "# Exploring audit_prepared\n",
    "len(audit_prepared[0])"
   ]
  },
  {
   "cell_type": "markdown",
   "metadata": {},
   "source": [
    "### Question 1.2 (10 points)\n",
    "\n",
    "Now add a LogisticRegression model to the pipeline to fit the train set and report the predictive precision, recall and f1 score on the test set.  "
   ]
  },
  {
   "cell_type": "code",
   "execution_count": 35,
   "metadata": {},
   "outputs": [],
   "source": [
    "from sklearn.linear_model import LogisticRegression\n",
    "\n",
    "log_reg = LogisticRegression()\n",
    "\n",
    "log_reg_pipeline = Pipeline([\n",
    "    ('preprocessing', pre_processing_pipeline),\n",
    "    ('lr', log_reg)\n",
    "])\n",
    "\n",
    "model = log_reg_pipeline.fit(X_train, y_train)\n",
    "\n",
    "y_pred = model.predict(X_test)"
   ]
  },
  {
   "cell_type": "code",
   "execution_count": 36,
   "metadata": {},
   "outputs": [
    {
     "name": "stdout",
     "output_type": "stream",
     "text": [
      "F1_Score: 0.63\n",
      "Recall: 0.55\n",
      "Precision: 0.75\n",
      "\n"
     ]
    }
   ],
   "source": [
    "from sklearn.metrics import f1_score, recall_score, precision_score\n",
    "\n",
    "print(f\"\"\"F1_Score: {round(f1_score(y_test, y_pred), 2)}\n",
    "Recall: {round(recall_score(y_test, y_pred), 2)}\n",
    "Precision: {round(precision_score(y_test, y_pred), 2)}\n",
    "\"\"\")"
   ]
  },
  {
   "cell_type": "markdown",
   "metadata": {},
   "source": [
    "### Question 1.3 (20 points)\n",
    "\n",
    "Now use the sklearn.decomposition.PCA to perform principal component analysis on the data and explain which number of principal components should be chosen using Elbow method if PCA reaches 90% threshold of explained variance. Add the PCA to the preprocessing pipeline and use Logistic Regression to fit the train set. Report the predictive precision, recall and f1 score on the test set. Explain whether you would be able to achieve a better result."
   ]
  },
  {
   "cell_type": "code",
   "execution_count": 37,
   "metadata": {},
   "outputs": [
    {
     "name": "stdout",
     "output_type": "stream",
     "text": [
      "Number of principal components to be used for a 90% threshold of explained variance: 20\n"
     ]
    }
   ],
   "source": [
    "from sklearn.decomposition import PCA\n",
    "\n",
    "pca = PCA(n_components=0.9)\n",
    "\n",
    "X_reduced = pca.fit_transform(audit_prepared)\n",
    "\n",
    "print(f\"Number of principal components to be used for a 90% threshold of explained variance: {pca.n_components_}\")"
   ]
  },
  {
   "cell_type": "code",
   "execution_count": 38,
   "metadata": {},
   "outputs": [],
   "source": [
    "pca_pipeline = Pipeline([ \n",
    "    ('preprocessing', pre_processing_pipeline),\n",
    "    ('pca', pca),\n",
    "    ('lr', log_reg),\n",
    "])\n",
    "\n",
    "model = pca_pipeline.fit(X_train, y_train)\n",
    "\n",
    "y_pred = model.predict(X_test)"
   ]
  },
  {
   "cell_type": "code",
   "execution_count": 39,
   "metadata": {},
   "outputs": [
    {
     "name": "stdout",
     "output_type": "stream",
     "text": [
      "F1_Score: 0.64\n",
      "Recall: 0.55\n",
      "Precision: 0.76\n",
      "\n"
     ]
    }
   ],
   "source": [
    "from sklearn.metrics import f1_score, recall_score, precision_score\n",
    "\n",
    "print(f\"\"\"F1_Score: {round(f1_score(y_test, y_pred), 2)}\n",
    "Recall: {round(recall_score(y_test, y_pred), 2)}\n",
    "Precision: {round(precision_score(y_test, y_pred), 2)}\n",
    "\"\"\")"
   ]
  },
  {
   "cell_type": "markdown",
   "metadata": {},
   "source": [
    "## Answer:\n",
    "\n",
    "- Adding Principal Component Analysis to the pipeline improved the model very slightly. In fact, the increase is so small that it is unclear whether PCA actually improves the model.\n",
    "\n",
    "---"
   ]
  },
  {
   "cell_type": "markdown",
   "metadata": {},
   "source": [
    "### Question 1.4 (10 points)\n",
    "\n",
    "Now fine-tune the n_compnents from 1 to 50 in the pca using a grid search strategy through 5-fold cross-validation (with the f1 as the scoring function). Plot the `mean test score` for grid searched n_components. Expalin whether the best estimator obtained from fine-tuning process is the same n_components from the previous question. Also, report predictive precision, recall and f1 score on the test set. "
   ]
  },
  {
   "cell_type": "code",
   "execution_count": 40,
   "metadata": {},
   "outputs": [
    {
     "name": "stdout",
     "output_type": "stream",
     "text": [
      "After Grid Search fine-tuning: {'pca__n_components': 19}\n"
     ]
    }
   ],
   "source": [
    "from sklearn.model_selection import GridSearchCV\n",
    "import matplotlib.pyplot as plt\n",
    "\n",
    "param_grid = {\n",
    "    'pca__n_components': range(1,50),\n",
    "}\n",
    "\n",
    "grid_search = GridSearchCV(pca_pipeline, param_grid, scoring='f1', cv=5)\n",
    "grid_search.fit(X_train, y_train)\n",
    "\n",
    "print(f\"After Grid Search fine-tuning: {grid_search.best_params_}\")"
   ]
  },
  {
   "cell_type": "code",
   "execution_count": 41,
   "metadata": {},
   "outputs": [],
   "source": [
    "y_axis = grid_search.cv_results_['mean_test_score']\n",
    "x_axis = range(1,50)"
   ]
  },
  {
   "cell_type": "code",
   "execution_count": 42,
   "metadata": {},
   "outputs": [
    {
     "data": {
      "text/plain": [
       "[<matplotlib.lines.Line2D at 0x1bde5c08430>]"
      ]
     },
     "execution_count": 42,
     "metadata": {},
     "output_type": "execute_result"
    },
    {
     "data": {
      "image/png": "[encoded data removed]",
      "text/plain": [
       "<Figure size 432x288 with 1 Axes>"
      ]
     },
     "metadata": {
      "needs_background": "light"
     },
     "output_type": "display_data"
    }
   ],
   "source": [
    "plt.plot(x_axis, y_axis)"
   ]
  },
  {
   "cell_type": "code",
   "execution_count": 43,
   "metadata": {},
   "outputs": [],
   "source": [
    "y_pred = grid_search.predict(X_test)"
   ]
  },
  {
   "cell_type": "code",
   "execution_count": 44,
   "metadata": {},
   "outputs": [
    {
     "name": "stdout",
     "output_type": "stream",
     "text": [
      "F1_Score: 0.63\n",
      "Recall: 0.53\n",
      "Precision: 0.76\n",
      "\n"
     ]
    }
   ],
   "source": [
    "from sklearn.metrics import f1_score, recall_score, precision_score\n",
    "\n",
    "print(f\"\"\"F1_Score: {round(f1_score(y_test, y_pred), 2)}\n",
    "Recall: {round(recall_score(y_test, y_pred), 2)}\n",
    "Precision: {round(precision_score(y_test, y_pred), 2)}\n",
    "\"\"\")"
   ]
  },
  {
   "cell_type": "markdown",
   "metadata": {},
   "source": [
    "## Answer:\n",
    "\n",
    "- After fine-tuning, the number of principal components decreased by 1 (from 20 in 1.3 to 19 after fine-tuning).\n",
    "\n",
    "---"
   ]
  },
  {
   "cell_type": "markdown",
   "metadata": {},
   "source": [
    "### Question 1.5 (10 points) \n",
    "Add the PCA transformed features to the preprocessing pipeline, fine-tune again the n_components and report the best estimator obtained same as above. In other words, both the preprocessed features and PCA-processed features will be concatenated togehter. Explain whether adding PCA transformed feature would help increase model performance. Also, report predictive precision, recall and f1 score on the test set. (Hint: use FeatureUnion to concatenate the features)"
   ]
  },
  {
   "cell_type": "code",
   "execution_count": 45,
   "metadata": {},
   "outputs": [],
   "source": [
    "age_pipeline = Pipeline([\n",
    "    ('selector', DataFrameSelector(['Age'])),\n",
    "    ('age_transformer', FunctionTransformer(age_bins_creator, validate = False)),\n",
    "    ('imputer', SimpleImputer(strategy=\"most_frequent\")),\n",
    "    ('age_enconder', OneHotEncoder(sparse=False,handle_unknown = \"ignore\")),\n",
    "])\n",
    "\n",
    "num_pipeline = Pipeline([\n",
    "        ('selector', DataFrameSelector(num_attribs)),\n",
    "        ('imputer', SimpleImputer(strategy=\"median\")),\n",
    "        ('std_scaler', StandardScaler()),\n",
    "    ])\n",
    "\n",
    "cat_pipeline = Pipeline([\n",
    "        ('selector', DataFrameSelector(cat_attribs)),\n",
    "        ('cat_encoder', OneHotEncoder(sparse=False,handle_unknown = \"ignore\")),\n",
    "])\n",
    "\n",
    "pre_processing_pipeline = FeatureUnion(transformer_list=[\n",
    "        ('age_pipeline', age_pipeline),\n",
    "        (\"num_pipeline\", num_pipeline),\n",
    "        (\"cat_pipeline\", cat_pipeline),\n",
    "    ])\n",
    "\n",
    "pca_pipeline = Pipeline([ \n",
    "    ('preprocessing', pre_processing_pipeline),\n",
    "    ('pca', pca),\n",
    "])\n",
    "\n",
    "concatenated_pipeline = FeatureUnion(transformer_list=[\n",
    "    ('pre_processing_pipeline', pre_processing_pipeline),\n",
    "    ('pca_pipeline', pca_pipeline),\n",
    "    ])\n",
    "\n",
    "\n",
    "audit_prepared = concatenated_pipeline.fit_transform(X)\n",
    "\n",
    "\n",
    "pca = PCA(n_components=0.9)\n",
    "log_reg = LogisticRegression()\n",
    "\n",
    "model_pipeline = Pipeline([ \n",
    "    ('concatenated_pipeline', concatenated_pipeline),\n",
    "    ('lr', log_reg),\n",
    "])"
   ]
  },
  {
   "cell_type": "code",
   "execution_count": 46,
   "metadata": {},
   "outputs": [
    {
     "data": {
      "text/plain": [
       "(1899, 72)"
      ]
     },
     "execution_count": 46,
     "metadata": {},
     "output_type": "execute_result"
    }
   ],
   "source": [
    "audit_prepared.shape"
   ]
  },
  {
   "cell_type": "code",
   "execution_count": 47,
   "metadata": {},
   "outputs": [
    {
     "name": "stdout",
     "output_type": "stream",
     "text": [
      "After Grid Search fine-tuning: {'concatenated_pipeline__pca_pipeline__pca__n_components': 29}\n"
     ]
    }
   ],
   "source": [
    "param_grid = {\n",
    "    'concatenated_pipeline__pca_pipeline__pca__n_components': range(1,50),\n",
    "}\n",
    "\n",
    "grid_search = GridSearchCV(model_pipeline, param_grid, scoring='f1', cv=5)\n",
    "grid_search.fit(X_train, y_train)\n",
    "\n",
    "print(f\"After Grid Search fine-tuning: {grid_search.best_params_}\")"
   ]
  },
  {
   "cell_type": "markdown",
   "metadata": {},
   "source": [
    "Ideal number of principal components increased by 9 from the previous method."
   ]
  },
  {
   "cell_type": "code",
   "execution_count": 48,
   "metadata": {},
   "outputs": [
    {
     "name": "stdout",
     "output_type": "stream",
     "text": [
      "F1_Score: 0.63\n",
      "Recall: 0.55\n",
      "Precision: 0.73\n",
      "\n"
     ]
    }
   ],
   "source": [
    "from sklearn.metrics import f1_score, recall_score, precision_score\n",
    "\n",
    "y_pred = grid_search.predict(X_test)\n",
    "\n",
    "print(f\"\"\"F1_Score: {round(f1_score(y_test, y_pred), 2)}\n",
    "Recall: {round(recall_score(y_test, y_pred), 2)}\n",
    "Precision: {round(precision_score(y_test, y_pred), 2)}\n",
    "\"\"\")"
   ]
  },
  {
   "cell_type": "markdown",
   "metadata": {},
   "source": [
    "## Answer:\n",
    "\n",
    "- In this case, GridSearchCV returns an optimal number of features of 29.\n",
    "- When considereing the difference in recall, precision, and F1 scores, we can conclude that this does not improve our model.\n",
    "\n",
    "- Moreover, adding the PCA features will result in a more complex and slower model without adding anything in return.\n",
    "\n",
    "---"
   ]
  },
  {
   "cell_type": "markdown",
   "metadata": {},
   "source": [
    "### Question 1.6 (20 points)\n",
    "\n",
    "Now build a pipeline with the stacking model as the last step that takes the random forest, adaboost, gradient boost and KNN models as the base estimator and Logistic regression as the final estimator. Fine-tune the model using the hyperparameters for all these models and report the predicted precision, recall and f1 score on test set (you should be able to achieve comparable performance)."
   ]
  },
  {
   "cell_type": "code",
   "execution_count": 49,
   "metadata": {},
   "outputs": [],
   "source": [
    "from sklearn.ensemble import RandomForestClassifier, StackingClassifier, AdaBoostClassifier, \\\n",
    "                            GradientBoostingClassifier, StackingRegressor\n",
    "from sklearn.experimental import enable_hist_gradient_boosting \n",
    "from sklearn.linear_model import LassoCV, RidgeCV\n",
    "from sklearn.neighbors import KNeighborsClassifier\n",
    "from sklearn.pipeline import make_pipeline\n",
    "\n",
    "ada_boost_pipeline = make_pipeline(concatenated_pipeline,\n",
    "                               AdaBoostClassifier())\n",
    "\n",
    "rf_pipeline = make_pipeline(concatenated_pipeline,\n",
    "                            RandomForestClassifier(random_state=0))\n",
    "\n",
    "gradient_pipeline = make_pipeline(\n",
    "    concatenated_pipeline,\n",
    "    GradientBoostingClassifier())\n",
    "\n",
    "knn_pipeline = make_pipeline(\n",
    "    concatenated_pipeline,\n",
    "    KNeighborsClassifier())\n",
    "\n",
    "estimators = [('rf', rf_pipeline),\n",
    "              ('ada_boost', ada_boost_pipeline),\n",
    "              ('Gradient Boosting', gradient_pipeline),\n",
    "             ('knn', knn_pipeline)]\n",
    "\n",
    "stacking_regressor = StackingRegressor(estimators=estimators,\n",
    "                                       final_estimator=LogisticRegression())"
   ]
  },
  {
   "cell_type": "code",
   "execution_count": 50,
   "metadata": {},
   "outputs": [],
   "source": [
    "from sklearn.linear_model import LinearRegression\n",
    "from sklearn.linear_model import LogisticRegressionCV\n",
    "\n",
    "estimators = [\n",
    "    ('ada_boost', AdaBoostClassifier()),\n",
    "    ('rf', RandomForestClassifier(random_state=0)),\n",
    "    ('gradient', GradientBoostingClassifier(random_state=0)),\n",
    "    ('knn', KNeighborsClassifier())\n",
    "]\n",
    "\n",
    "stacking = StackingClassifier(\n",
    "    estimators=estimators,\n",
    "    final_estimator= LogisticRegression(),\n",
    ")"
   ]
  },
  {
   "cell_type": "code",
   "execution_count": 51,
   "metadata": {},
   "outputs": [],
   "source": [
    "age_pipeline = Pipeline([\n",
    "    ('selector', DataFrameSelector(['Age'])),\n",
    "    ('age_transformer', FunctionTransformer(age_bins_creator, validate = False)),\n",
    "    ('imputer', SimpleImputer(strategy=\"most_frequent\")),\n",
    "    ('age_enconder', OneHotEncoder(sparse=False,handle_unknown = \"ignore\")),\n",
    "])\n",
    "\n",
    "num_pipeline = Pipeline([\n",
    "        ('selector', DataFrameSelector(num_attribs)),\n",
    "        ('imputer', SimpleImputer(strategy=\"median\")),\n",
    "        ('std_scaler', StandardScaler()),\n",
    "    ])\n",
    "    \n",
    "cat_pipeline = Pipeline([\n",
    "        ('selector', DataFrameSelector(cat_attribs)),\n",
    "        ('cat_encoder', OneHotEncoder(sparse=False,handle_unknown = \"ignore\")),\n",
    "])\n",
    "\n",
    "pre_processing_pipeline = FeatureUnion(transformer_list=[\n",
    "        ('age_pipeline', age_pipeline),\n",
    "        (\"num_pipeline\", num_pipeline),\n",
    "        (\"cat_pipeline\", cat_pipeline),\n",
    "    ])\n"
   ]
  },
  {
   "cell_type": "code",
   "execution_count": 52,
   "metadata": {},
   "outputs": [],
   "source": [
    "final_pipeline = Pipeline([\n",
    "    ('pre_processing_pipeline', concatenated_pipeline),\n",
    "    ('reg', stacking),\n",
    "    ])"
   ]
  },
  {
   "cell_type": "code",
   "execution_count": 53,
   "metadata": {},
   "outputs": [],
   "source": [
    "params = {\n",
    "    'reg__rf__n_estimators': range(1,5),\n",
    "    'reg__ada_boost__n_estimators': range(1,5),\n",
    "    'reg__gradient__n_estimators': range(1,5),\n",
    "    'reg__knn__n_neighbors': range(1,5),\n",
    "}\n",
    "# wider ranges should have been used, but running that took too much time\n",
    "\n",
    "grid = GridSearchCV(final_pipeline, param_grid=params, scoring='f1',cv=2)"
   ]
  },
  {
   "cell_type": "code",
   "execution_count": 54,
   "metadata": {},
   "outputs": [
    {
     "name": "stdout",
     "output_type": "stream",
     "text": [
      "{'reg__ada_boost__n_estimators': 1, 'reg__gradient__n_estimators': 4, 'reg__knn__n_neighbors': 4, 'reg__rf__n_estimators': 3}\n"
     ]
    }
   ],
   "source": [
    "grid.fit(X_train, y_train)\n",
    "print(grid.best_params_)"
   ]
  },
  {
   "cell_type": "markdown",
   "metadata": {},
   "source": [
    "### Question 1.7 (10 points)\n",
    "Once the final model is obtained, export the model as a pickle, and show you can make the predictions on the following observations without having to retrain (you should expect to get the predicted value of 0)."
   ]
  },
  {
   "cell_type": "code",
   "execution_count": 55,
   "metadata": {},
   "outputs": [
    {
     "data": {
      "text/html": [
       "<div>\n",
       "<style scoped>\n",
       "    .dataframe tbody tr th:only-of-type {\n",
       "        vertical-align: middle;\n",
       "    }\n",
       "\n",
       "    .dataframe tbody tr th {\n",
       "        vertical-align: top;\n",
       "    }\n",
       "\n",
       "    .dataframe thead th {\n",
       "        text-align: right;\n",
       "    }\n",
       "</style>\n",
       "<table border=\"1\" class=\"dataframe\">\n",
       "  <thead>\n",
       "    <tr style=\"text-align: right;\">\n",
       "      <th></th>\n",
       "      <th>Age</th>\n",
       "      <th>Employment</th>\n",
       "      <th>Education</th>\n",
       "      <th>Marital</th>\n",
       "      <th>Occupation</th>\n",
       "      <th>Income</th>\n",
       "      <th>Gender</th>\n",
       "      <th>Deductions</th>\n",
       "      <th>Hours</th>\n",
       "    </tr>\n",
       "  </thead>\n",
       "  <tbody>\n",
       "    <tr>\n",
       "      <th>0</th>\n",
       "      <td>45</td>\n",
       "      <td>Private</td>\n",
       "      <td>College</td>\n",
       "      <td>Divorced</td>\n",
       "      <td>Support</td>\n",
       "      <td>125370</td>\n",
       "      <td>Female</td>\n",
       "      <td>False</td>\n",
       "      <td>40</td>\n",
       "    </tr>\n",
       "  </tbody>\n",
       "</table>\n",
       "</div>"
      ],
      "text/plain": [
       "   Age Employment Education   Marital Occupation  Income  Gender  Deductions  \\\n",
       "0   45    Private   College  Divorced    Support  125370  Female       False   \n",
       "\n",
       "   Hours  \n",
       "0     40  "
      ]
     },
     "execution_count": 55,
     "metadata": {},
     "output_type": "execute_result"
    }
   ],
   "source": [
    "X_news = pd.DataFrame({\n",
    "    'Age': 45,\n",
    "    'Employment': 'Private',\n",
    "    'Education': 'College',\n",
    "    'Marital': 'Divorced',\n",
    "    'Occupation': 'Support',\n",
    "    'Income': 125370,\n",
    "    'Gender': 'Female',\n",
    "    'Deductions': False,\n",
    "    'Hours': 40}, index=[0])\n",
    "X_news"
   ]
  },
  {
   "cell_type": "code",
   "execution_count": 56,
   "metadata": {},
   "outputs": [],
   "source": [
    "# Saving the model through Pickle\n",
    "import pickle\n",
    "\n",
    "pickled_model = grid.best_estimator_\n",
    "\n",
    "with open(\"pickled_model.pkl\", \"wb\") as file:\n",
    "    pickle.dump(pickled_model, file)"
   ]
  },
  {
   "cell_type": "code",
   "execution_count": 57,
   "metadata": {},
   "outputs": [
    {
     "data": {
      "text/plain": [
       "array([0], dtype=int64)"
      ]
     },
     "execution_count": 57,
     "metadata": {},
     "output_type": "execute_result"
    }
   ],
   "source": [
    "# Loading the model\n",
    "my_pipeline = pickle.load(open(\"pickled_model.pkl\",\"rb\"))\n",
    "\n",
    "final_predictions = my_pipeline.predict(X_news)\n",
    "\n",
    "final_predictions"
   ]
  }
 ],
 "metadata": {
  "kernelspec": {
   "display_name": "Python 3",
   "language": "python",
   "name": "python3"
  },
  "language_info": {
   "codemirror_mode": {
    "name": "ipython",
    "version": 3
   },
   "file_extension": ".py",
   "mimetype": "text/x-python",
   "name": "python",
   "nbconvert_exporter": "python",
   "pygments_lexer": "ipython3",
   "version": "3.8.3"
  }
 },
 "nbformat": 4,
 "nbformat_minor": 4
}
