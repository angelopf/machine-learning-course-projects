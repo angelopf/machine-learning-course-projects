{
 "cells": [
  {
   "cell_type": "markdown",
   "metadata": {},
   "source": [
    "### <center>Ângelo Pascoal Figueiral, 44645</center>"
   ]
  },
  {
   "cell_type": "markdown",
   "metadata": {},
   "source": [
    "## Assignment 2 Machine Learning\n",
    "\n",
    "This assignment will contain 3 questions with details as below. The due date is March 24th (Wednesday), 2021 23:59PM. Each late day will result in 20% loss of total points."
   ]
  },
  {
   "cell_type": "markdown",
   "metadata": {},
   "source": [
    "### Question 1  (40 points) You jump, I jump?\n",
    "\n",
    "![](https://camo.githubusercontent.com/78ca11f9a2e6c36bbee928124a7d3f9abc3abb2b/68747470733a2f2f696d672d73332e6f6e6564696f2e636f6d2f69642d3537616336353563393365613835613733323935343639652f7265762d302f7261772f732d613730613530323939633033303464336535383266356230373338613366653730396533613564662e6a7067)\n",
    "\n",
    "The RMS Titanic was a British passenger liner that sank in the North Atlantic Ocean in the early morning hours of 15 April 1912, after it collided with an iceberg during its maiden voyage from Southampton to New York City. There were an estimated 2,224 passengers and crew aboard the ship, and more than 1,500 died, making it one of the deadliest commercial peacetime maritime disasters in modern history. The RMS Titanic was the largest ship afloat at the time it entered service and was the second of three Olympic-class ocean liners operated by the White Star Line. The Titanic was built by the Harland and Wolff shipyard in Belfast. Thomas Andrews, her architect, died in the disaster.\n",
    "\n",
    "**Titanic dataset**\n",
    "The data has been split into two groups:\n",
    "\n",
    "training set (train.csv)\n",
    "test set (test.csv)\n",
    "The training set should be used to build your machine learning models. For the training set, we provide the outcome (also known as the “ground truth”) for each passenger. Your model will be based on “features” like passengers’ gender and class. You can also use feature engineering to create new features.\n",
    "\n",
    "The test set should be used to see how well your model performs on unseen data. For the test set, we do not provide the ground truth for each passenger. It is your job to predict these outcomes. For each passenger in the test set, use the model you trained to predict whether or not they survived the sinking of the Titanic.\n",
    "\n",
    "Data Dictionary \n",
    "\n",
    "| Variable        | Definition           | Key  |\n",
    "| ------------- |:-------------:| -----:|\n",
    "| survival      | Survival | 0 = No, 1 = Yes |\n",
    "| pclass      | Ticket class      |   1 = 1st, 2 = 2nd, 3 = 3rd |\n",
    "| sex         | Gender   |      |\n",
    "| age | Age in years      |     |\n",
    "| sibsp | # of siblings / spouses aboard the Titanic      |   Sibling = brother, sister Spouse = husband, wife |\n",
    "| parch | # of parents / children aboard the Titanic      |     |\n",
    "| fare | Passenger fare      |     |\n",
    "| embarked | Port of Embarkation     |   C = Cherbourg, Q = Queenstown, S = Southampton  |\n",
    "| class | Class of tickets      |  First, Second, Third class   |\n",
    "| ticket   | Ticket number              |             |\n",
    "| adult_male |  Is male adult or not | Ture, False              |\n",
    "| cabin | Cabin number  |  |\n",
    "\n",
    "\n",
    "Answer the following questions using the provided dataset. You can write down intermediate results towards the final answers"
   ]
  },
  {
   "cell_type": "code",
   "execution_count": 1,
   "metadata": {},
   "outputs": [],
   "source": [
    "import pandas as pd\n",
    "import numpy as np\n",
    "import matplotlib.pyplot as plt\n",
    "\n",
    "%matplotlib inline"
   ]
  },
  {
   "cell_type": "code",
   "execution_count": 2,
   "metadata": {},
   "outputs": [],
   "source": [
    "train_data = pd.read_csv('train.csv')\n",
    "test_data = pd.read_csv('test.csv')"
   ]
  },
  {
   "cell_type": "code",
   "execution_count": 3,
   "metadata": {},
   "outputs": [
    {
     "data": {
      "text/html": [
       "<div>\n",
       "<style scoped>\n",
       "    .dataframe tbody tr th:only-of-type {\n",
       "        vertical-align: middle;\n",
       "    }\n",
       "\n",
       "    .dataframe tbody tr th {\n",
       "        vertical-align: top;\n",
       "    }\n",
       "\n",
       "    .dataframe thead th {\n",
       "        text-align: right;\n",
       "    }\n",
       "</style>\n",
       "<table border=\"1\" class=\"dataframe\">\n",
       "  <thead>\n",
       "    <tr style=\"text-align: right;\">\n",
       "      <th></th>\n",
       "      <th>PassengerId</th>\n",
       "      <th>Survived</th>\n",
       "      <th>Pclass</th>\n",
       "      <th>Name</th>\n",
       "      <th>Sex</th>\n",
       "      <th>Age</th>\n",
       "      <th>SibSp</th>\n",
       "      <th>Parch</th>\n",
       "      <th>Ticket</th>\n",
       "      <th>Fare</th>\n",
       "      <th>Cabin</th>\n",
       "      <th>Embarked</th>\n",
       "    </tr>\n",
       "  </thead>\n",
       "  <tbody>\n",
       "    <tr>\n",
       "      <th>0</th>\n",
       "      <td>1</td>\n",
       "      <td>0</td>\n",
       "      <td>3</td>\n",
       "      <td>Braund, Mr. Owen Harris</td>\n",
       "      <td>male</td>\n",
       "      <td>22.0</td>\n",
       "      <td>1</td>\n",
       "      <td>0</td>\n",
       "      <td>A/5 21171</td>\n",
       "      <td>7.2500</td>\n",
       "      <td>NaN</td>\n",
       "      <td>S</td>\n",
       "    </tr>\n",
       "    <tr>\n",
       "      <th>1</th>\n",
       "      <td>2</td>\n",
       "      <td>1</td>\n",
       "      <td>1</td>\n",
       "      <td>Cumings, Mrs. John Bradley (Florence Briggs Th...</td>\n",
       "      <td>female</td>\n",
       "      <td>38.0</td>\n",
       "      <td>1</td>\n",
       "      <td>0</td>\n",
       "      <td>PC 17599</td>\n",
       "      <td>71.2833</td>\n",
       "      <td>C85</td>\n",
       "      <td>C</td>\n",
       "    </tr>\n",
       "    <tr>\n",
       "      <th>2</th>\n",
       "      <td>3</td>\n",
       "      <td>1</td>\n",
       "      <td>3</td>\n",
       "      <td>Heikkinen, Miss. Laina</td>\n",
       "      <td>female</td>\n",
       "      <td>26.0</td>\n",
       "      <td>0</td>\n",
       "      <td>0</td>\n",
       "      <td>STON/O2. 3101282</td>\n",
       "      <td>7.9250</td>\n",
       "      <td>NaN</td>\n",
       "      <td>S</td>\n",
       "    </tr>\n",
       "    <tr>\n",
       "      <th>3</th>\n",
       "      <td>4</td>\n",
       "      <td>1</td>\n",
       "      <td>1</td>\n",
       "      <td>Futrelle, Mrs. Jacques Heath (Lily May Peel)</td>\n",
       "      <td>female</td>\n",
       "      <td>35.0</td>\n",
       "      <td>1</td>\n",
       "      <td>0</td>\n",
       "      <td>113803</td>\n",
       "      <td>53.1000</td>\n",
       "      <td>C123</td>\n",
       "      <td>S</td>\n",
       "    </tr>\n",
       "    <tr>\n",
       "      <th>4</th>\n",
       "      <td>5</td>\n",
       "      <td>0</td>\n",
       "      <td>3</td>\n",
       "      <td>Allen, Mr. William Henry</td>\n",
       "      <td>male</td>\n",
       "      <td>35.0</td>\n",
       "      <td>0</td>\n",
       "      <td>0</td>\n",
       "      <td>373450</td>\n",
       "      <td>8.0500</td>\n",
       "      <td>NaN</td>\n",
       "      <td>S</td>\n",
       "    </tr>\n",
       "  </tbody>\n",
       "</table>\n",
       "</div>"
      ],
      "text/plain": [
       "   PassengerId  Survived  Pclass  \\\n",
       "0            1         0       3   \n",
       "1            2         1       1   \n",
       "2            3         1       3   \n",
       "3            4         1       1   \n",
       "4            5         0       3   \n",
       "\n",
       "                                                Name     Sex   Age  SibSp  \\\n",
       "0                            Braund, Mr. Owen Harris    male  22.0      1   \n",
       "1  Cumings, Mrs. John Bradley (Florence Briggs Th...  female  38.0      1   \n",
       "2                             Heikkinen, Miss. Laina  female  26.0      0   \n",
       "3       Futrelle, Mrs. Jacques Heath (Lily May Peel)  female  35.0      1   \n",
       "4                           Allen, Mr. William Henry    male  35.0      0   \n",
       "\n",
       "   Parch            Ticket     Fare Cabin Embarked  \n",
       "0      0         A/5 21171   7.2500   NaN        S  \n",
       "1      0          PC 17599  71.2833   C85        C  \n",
       "2      0  STON/O2. 3101282   7.9250   NaN        S  \n",
       "3      0            113803  53.1000  C123        S  \n",
       "4      0            373450   8.0500   NaN        S  "
      ]
     },
     "execution_count": 3,
     "metadata": {},
     "output_type": "execute_result"
    }
   ],
   "source": [
    "train_data.head()"
   ]
  },
  {
   "cell_type": "code",
   "execution_count": 4,
   "metadata": {},
   "outputs": [
    {
     "name": "stdout",
     "output_type": "stream",
     "text": [
      "<class 'pandas.core.frame.DataFrame'>\n",
      "RangeIndex: 891 entries, 0 to 890\n",
      "Data columns (total 12 columns):\n",
      " #   Column       Non-Null Count  Dtype  \n",
      "---  ------       --------------  -----  \n",
      " 0   PassengerId  891 non-null    int64  \n",
      " 1   Survived     891 non-null    int64  \n",
      " 2   Pclass       891 non-null    int64  \n",
      " 3   Name         891 non-null    object \n",
      " 4   Sex          891 non-null    object \n",
      " 5   Age          714 non-null    float64\n",
      " 6   SibSp        891 non-null    int64  \n",
      " 7   Parch        891 non-null    int64  \n",
      " 8   Ticket       891 non-null    object \n",
      " 9   Fare         891 non-null    float64\n",
      " 10  Cabin        204 non-null    object \n",
      " 11  Embarked     889 non-null    object \n",
      "dtypes: float64(2), int64(5), object(5)\n",
      "memory usage: 83.7+ KB\n"
     ]
    }
   ],
   "source": [
    "train_data.info()"
   ]
  },
  {
   "cell_type": "markdown",
   "metadata": {},
   "source": [
    "Okay, the Age, Cabin and Embarked attributes are sometimes null (less than 891 non-null), especially the Cabin (77% are null). We will ignore the Cabin for now and focus on the rest. The Age attribute has about 19% null values, so we will need to decide what to do with them. Replacing null values with the median age seems reasonable.\n",
    "\n",
    "The Name and Ticket attributes may have some value, but they will be a bit tricky to convert into useful numbers that a model can consume. So for now, we will ignore them.\n",
    "\n",
    "Let's take a look at the numerical attributes:"
   ]
  },
  {
   "cell_type": "code",
   "execution_count": 5,
   "metadata": {},
   "outputs": [
    {
     "data": {
      "text/html": [
       "<div>\n",
       "<style scoped>\n",
       "    .dataframe tbody tr th:only-of-type {\n",
       "        vertical-align: middle;\n",
       "    }\n",
       "\n",
       "    .dataframe tbody tr th {\n",
       "        vertical-align: top;\n",
       "    }\n",
       "\n",
       "    .dataframe thead th {\n",
       "        text-align: right;\n",
       "    }\n",
       "</style>\n",
       "<table border=\"1\" class=\"dataframe\">\n",
       "  <thead>\n",
       "    <tr style=\"text-align: right;\">\n",
       "      <th></th>\n",
       "      <th>PassengerId</th>\n",
       "      <th>Survived</th>\n",
       "      <th>Pclass</th>\n",
       "      <th>Age</th>\n",
       "      <th>SibSp</th>\n",
       "      <th>Parch</th>\n",
       "      <th>Fare</th>\n",
       "    </tr>\n",
       "  </thead>\n",
       "  <tbody>\n",
       "    <tr>\n",
       "      <th>count</th>\n",
       "      <td>891.000000</td>\n",
       "      <td>891.000000</td>\n",
       "      <td>891.000000</td>\n",
       "      <td>714.000000</td>\n",
       "      <td>891.000000</td>\n",
       "      <td>891.000000</td>\n",
       "      <td>891.000000</td>\n",
       "    </tr>\n",
       "    <tr>\n",
       "      <th>mean</th>\n",
       "      <td>446.000000</td>\n",
       "      <td>0.383838</td>\n",
       "      <td>2.308642</td>\n",
       "      <td>29.699118</td>\n",
       "      <td>0.523008</td>\n",
       "      <td>0.381594</td>\n",
       "      <td>32.204208</td>\n",
       "    </tr>\n",
       "    <tr>\n",
       "      <th>std</th>\n",
       "      <td>257.353842</td>\n",
       "      <td>0.486592</td>\n",
       "      <td>0.836071</td>\n",
       "      <td>14.526497</td>\n",
       "      <td>1.102743</td>\n",
       "      <td>0.806057</td>\n",
       "      <td>49.693429</td>\n",
       "    </tr>\n",
       "    <tr>\n",
       "      <th>min</th>\n",
       "      <td>1.000000</td>\n",
       "      <td>0.000000</td>\n",
       "      <td>1.000000</td>\n",
       "      <td>0.420000</td>\n",
       "      <td>0.000000</td>\n",
       "      <td>0.000000</td>\n",
       "      <td>0.000000</td>\n",
       "    </tr>\n",
       "    <tr>\n",
       "      <th>25%</th>\n",
       "      <td>223.500000</td>\n",
       "      <td>0.000000</td>\n",
       "      <td>2.000000</td>\n",
       "      <td>20.125000</td>\n",
       "      <td>0.000000</td>\n",
       "      <td>0.000000</td>\n",
       "      <td>7.910400</td>\n",
       "    </tr>\n",
       "    <tr>\n",
       "      <th>50%</th>\n",
       "      <td>446.000000</td>\n",
       "      <td>0.000000</td>\n",
       "      <td>3.000000</td>\n",
       "      <td>28.000000</td>\n",
       "      <td>0.000000</td>\n",
       "      <td>0.000000</td>\n",
       "      <td>14.454200</td>\n",
       "    </tr>\n",
       "    <tr>\n",
       "      <th>75%</th>\n",
       "      <td>668.500000</td>\n",
       "      <td>1.000000</td>\n",
       "      <td>3.000000</td>\n",
       "      <td>38.000000</td>\n",
       "      <td>1.000000</td>\n",
       "      <td>0.000000</td>\n",
       "      <td>31.000000</td>\n",
       "    </tr>\n",
       "    <tr>\n",
       "      <th>max</th>\n",
       "      <td>891.000000</td>\n",
       "      <td>1.000000</td>\n",
       "      <td>3.000000</td>\n",
       "      <td>80.000000</td>\n",
       "      <td>8.000000</td>\n",
       "      <td>6.000000</td>\n",
       "      <td>512.329200</td>\n",
       "    </tr>\n",
       "  </tbody>\n",
       "</table>\n",
       "</div>"
      ],
      "text/plain": [
       "       PassengerId    Survived      Pclass         Age       SibSp  \\\n",
       "count   891.000000  891.000000  891.000000  714.000000  891.000000   \n",
       "mean    446.000000    0.383838    2.308642   29.699118    0.523008   \n",
       "std     257.353842    0.486592    0.836071   14.526497    1.102743   \n",
       "min       1.000000    0.000000    1.000000    0.420000    0.000000   \n",
       "25%     223.500000    0.000000    2.000000   20.125000    0.000000   \n",
       "50%     446.000000    0.000000    3.000000   28.000000    0.000000   \n",
       "75%     668.500000    1.000000    3.000000   38.000000    1.000000   \n",
       "max     891.000000    1.000000    3.000000   80.000000    8.000000   \n",
       "\n",
       "            Parch        Fare  \n",
       "count  891.000000  891.000000  \n",
       "mean     0.381594   32.204208  \n",
       "std      0.806057   49.693429  \n",
       "min      0.000000    0.000000  \n",
       "25%      0.000000    7.910400  \n",
       "50%      0.000000   14.454200  \n",
       "75%      0.000000   31.000000  \n",
       "max      6.000000  512.329200  "
      ]
     },
     "execution_count": 5,
     "metadata": {},
     "output_type": "execute_result"
    }
   ],
   "source": [
    "train_data.describe()"
   ]
  },
  {
   "cell_type": "markdown",
   "metadata": {},
   "source": [
    "Apparently only 38% Survived. :( That's close enough to 40%, so accuracy will be a reasonable metric to evaluate our model.\n",
    "\n",
    "The mean Fare was 32.20 GBP, which does not seem so expensive (but it was probably a lot of money back then).\n",
    "\n",
    "The mean Age was less than 30 years old.\n",
    "\n",
    "Let's check that the target is indeed 0 or 1:"
   ]
  },
  {
   "cell_type": "code",
   "execution_count": 6,
   "metadata": {},
   "outputs": [
    {
     "data": {
      "text/plain": [
       "0    549\n",
       "1    342\n",
       "Name: Survived, dtype: int64"
      ]
     },
     "execution_count": 6,
     "metadata": {},
     "output_type": "execute_result"
    }
   ],
   "source": [
    "train_data[\"Survived\"].value_counts()"
   ]
  },
  {
   "cell_type": "markdown",
   "metadata": {},
   "source": [
    "Now let's take a quick look at all the categorical attributes:"
   ]
  },
  {
   "cell_type": "code",
   "execution_count": 7,
   "metadata": {},
   "outputs": [
    {
     "data": {
      "text/plain": [
       "3    491\n",
       "1    216\n",
       "2    184\n",
       "Name: Pclass, dtype: int64"
      ]
     },
     "execution_count": 7,
     "metadata": {},
     "output_type": "execute_result"
    }
   ],
   "source": [
    "train_data[\"Pclass\"].value_counts()"
   ]
  },
  {
   "cell_type": "code",
   "execution_count": 8,
   "metadata": {},
   "outputs": [
    {
     "data": {
      "text/plain": [
       "male      577\n",
       "female    314\n",
       "Name: Sex, dtype: int64"
      ]
     },
     "execution_count": 8,
     "metadata": {},
     "output_type": "execute_result"
    }
   ],
   "source": [
    "train_data[\"Sex\"].value_counts()"
   ]
  },
  {
   "cell_type": "code",
   "execution_count": 9,
   "metadata": {},
   "outputs": [
    {
     "data": {
      "text/plain": [
       "S    644\n",
       "C    168\n",
       "Q     77\n",
       "Name: Embarked, dtype: int64"
      ]
     },
     "execution_count": 9,
     "metadata": {},
     "output_type": "execute_result"
    }
   ],
   "source": [
    "train_data[\"Embarked\"].value_counts()"
   ]
  },
  {
   "cell_type": "code",
   "execution_count": 10,
   "metadata": {},
   "outputs": [],
   "source": [
    "y_train = train_data[~train_data['Embarked'].isna()]['Survived']"
   ]
  },
  {
   "cell_type": "markdown",
   "metadata": {},
   "source": [
    "The Embarked attribute tells us where the passenger embarked: C=Cherbourg, Q=Queenstown, S=Southampton."
   ]
  },
  {
   "cell_type": "code",
   "execution_count": 11,
   "metadata": {},
   "outputs": [],
   "source": [
    "train_data.dropna(subset=['Sex', 'Pclass', 'Embarked'], inplace=True)"
   ]
  },
  {
   "cell_type": "code",
   "execution_count": 12,
   "metadata": {},
   "outputs": [],
   "source": [
    "from sklearn.impute import SimpleImputer\n",
    "\n",
    "imputer = SimpleImputer(strategy='median')"
   ]
  },
  {
   "cell_type": "code",
   "execution_count": 13,
   "metadata": {},
   "outputs": [
    {
     "data": {
      "text/plain": [
       "array([[22.    ,  1.    ,  0.    ,  7.25  ],\n",
       "       [38.    ,  1.    ,  0.    , 71.2833],\n",
       "       [26.    ,  0.    ,  0.    ,  7.925 ],\n",
       "       ...,\n",
       "       [28.    ,  1.    ,  2.    , 23.45  ],\n",
       "       [26.    ,  0.    ,  0.    , 30.    ],\n",
       "       [32.    ,  0.    ,  0.    ,  7.75  ]])"
      ]
     },
     "execution_count": 13,
     "metadata": {},
     "output_type": "execute_result"
    }
   ],
   "source": [
    "numerical_features = imputer.fit_transform(train_data[['Age', 'SibSp', 'Parch', 'Fare']])\n",
    "numerical_features"
   ]
  },
  {
   "cell_type": "code",
   "execution_count": 14,
   "metadata": {},
   "outputs": [],
   "source": [
    "from sklearn.preprocessing import OneHotEncoder\n",
    "encoder = OneHotEncoder(handle_unknown='ignore', sparse=False)"
   ]
  },
  {
   "cell_type": "code",
   "execution_count": 15,
   "metadata": {},
   "outputs": [
    {
     "data": {
      "text/plain": [
       "array([[0., 1., 0., ..., 0., 0., 1.],\n",
       "       [1., 0., 1., ..., 1., 0., 0.],\n",
       "       [1., 0., 0., ..., 0., 0., 1.],\n",
       "       ...,\n",
       "       [1., 0., 0., ..., 0., 0., 1.],\n",
       "       [0., 1., 1., ..., 1., 0., 0.],\n",
       "       [0., 1., 0., ..., 0., 1., 0.]])"
      ]
     },
     "execution_count": 15,
     "metadata": {},
     "output_type": "execute_result"
    }
   ],
   "source": [
    "categorical_features = encoder.fit_transform(train_data[['Sex', 'Pclass', \n",
    "                                                         'Embarked']] )\n",
    "categorical_features"
   ]
  },
  {
   "cell_type": "code",
   "execution_count": 16,
   "metadata": {},
   "outputs": [
    {
     "data": {
      "text/plain": [
       "array([[22.,  1.,  0., ...,  0.,  0.,  1.],\n",
       "       [38.,  1.,  0., ...,  1.,  0.,  0.],\n",
       "       [26.,  0.,  0., ...,  0.,  0.,  1.],\n",
       "       ...,\n",
       "       [28.,  1.,  2., ...,  0.,  0.,  1.],\n",
       "       [26.,  0.,  0., ...,  1.,  0.,  0.],\n",
       "       [32.,  0.,  0., ...,  0.,  1.,  0.]])"
      ]
     },
     "execution_count": 16,
     "metadata": {},
     "output_type": "execute_result"
    }
   ],
   "source": [
    "X_train = np.hstack((numerical_features, categorical_features))\n",
    "X_train"
   ]
  },
  {
   "cell_type": "code",
   "execution_count": 17,
   "metadata": {},
   "outputs": [],
   "source": [
    "y_test = test_data[~test_data['Embarked'].isna()]['Survived']"
   ]
  },
  {
   "cell_type": "code",
   "execution_count": 18,
   "metadata": {},
   "outputs": [
    {
     "data": {
      "text/plain": [
       "array([[34.5,  0. ,  0. , ...,  0. ,  1. ,  0. ],\n",
       "       [34.5,  0. ,  0. , ...,  0. ,  1. ,  0. ],\n",
       "       [47. ,  1. ,  0. , ...,  0. ,  0. ,  1. ],\n",
       "       ...,\n",
       "       [38.5,  0. ,  0. , ...,  0. ,  0. ,  1. ],\n",
       "       [28. ,  0. ,  0. , ...,  0. ,  0. ,  1. ],\n",
       "       [28. ,  1. ,  1. , ...,  1. ,  0. ,  0. ]])"
      ]
     },
     "execution_count": 18,
     "metadata": {},
     "output_type": "execute_result"
    }
   ],
   "source": [
    "numerical_features_test = imputer.fit_transform(test_data[['Age', 'SibSp', 'Parch', 'Fare']])\n",
    "categorical_features_test = encoder.fit_transform(test_data[['Sex', 'Pclass', 'Embarked']] )\n",
    "X_test = np.hstack((numerical_features_test, categorical_features_test))\n",
    "X_test"
   ]
  },
  {
   "cell_type": "markdown",
   "metadata": {},
   "source": [
    "**Question 1.1 (10 points)** Use logistic regression from scikit-learn library to train on the training set and predict the survival of passengers in the test set. Report the accuracy, confusion matrix, precision, recall and F1 score on both training set and test set and explain whether you have fit the data well."
   ]
  },
  {
   "cell_type": "code",
   "execution_count": 19,
   "metadata": {},
   "outputs": [
    {
     "name": "stdout",
     "output_type": "stream",
     "text": [
      "Accuracy Scores - fraction of predictions the model got right:\n",
      "    Training set: 0.805\n",
      "    Test set: 0.766\n",
      "\n",
      "Precision Scores - ability of not to label as positive a sample that is negative:\n",
      "    Training set: 0.772\n",
      "    Test set: 0.69\n",
      "\n",
      "Recall Scores - ability to find all the positive samples:\n",
      "    Training set: 0.697\n",
      "    Test set: 0.667\n",
      "\n",
      "F1 Scores - weighted average of the precision and recall:\n",
      "    Training set: 0.733\n",
      "    Test set: 0.678\n",
      "\n"
     ]
    },
    {
     "data": {
      "image/png": "[encoded data removed]",
      "text/plain": [
       "<Figure size 864x432 with 4 Axes>"
      ]
     },
     "metadata": {
      "needs_background": "light"
     },
     "output_type": "display_data"
    }
   ],
   "source": [
    "from sklearn.linear_model import LogisticRegression\n",
    "from sklearn.metrics import accuracy_score, confusion_matrix, ConfusionMatrixDisplay, \\\n",
    "                            precision_score, recall_score, f1_score\n",
    "\n",
    "# initializing the Logistic Regression model\n",
    "log_reg = LogisticRegression(solver=\"liblinear\", random_state=0)\n",
    "log_reg.fit(X_train, y_train)\n",
    "\n",
    "# estimating with the model\n",
    "y_hat_train = log_reg.predict(X_train)\n",
    "y_hat_test = log_reg.predict(X_test)\n",
    "\n",
    "# accuracy\n",
    "print(f\"\"\"Accuracy Scores - fraction of predictions the model got right:\n",
    "    Training set: {round(accuracy_score(y_train, y_hat_train),3)}\n",
    "    Test set: {round(accuracy_score(y_test, y_hat_test),3)}\\n\"\"\")\n",
    "\n",
    "# precision\n",
    "print(f\"\"\"Precision Scores - ability of not to label as positive a sample that is negative:\n",
    "    Training set: {round(precision_score(y_train, y_hat_train),3)}\n",
    "    Test set: {round(precision_score(y_test, y_hat_test),3)}\\n\"\"\")\n",
    "\n",
    "# recall\n",
    "print(f\"\"\"Recall Scores - ability to find all the positive samples:\n",
    "    Training set: {round(recall_score(y_train, y_hat_train),3)}\n",
    "    Test set: {round(recall_score(y_test, y_hat_test),3)}\\n\"\"\")\n",
    "\n",
    "# F1\n",
    "print(f\"\"\"F1 Scores - weighted average of the precision and recall:\n",
    "    Training set: {round(f1_score(y_train, y_hat_train),3)}\n",
    "    Test set: {round(f1_score(y_test, y_hat_test),3)}\\n\"\"\")\n",
    "\n",
    "# confusion matrix\n",
    "confusion_matrix_train = confusion_matrix(y_train, y_hat_train, labels=[0, 1])\n",
    "confusion_matrix_test = confusion_matrix(y_test, y_hat_test, labels=[0, 1])\n",
    "\n",
    "disp1 = ConfusionMatrixDisplay(confusion_matrix_train)\n",
    "disp2 = ConfusionMatrixDisplay(confusion_matrix_test)\n",
    "\n",
    "fig, (ax1, ax2) = plt.subplots(1, 2, figsize=(12, 6))\n",
    "\n",
    "disp1.plot(ax=ax1)\n",
    "disp2.plot(ax=ax2)\n",
    "\n",
    "ax1.set_title('\\nTraining set - confusion matrix\\n')\n",
    "ax2.set_title('\\nTest set - confusion matrix\\n')\n",
    "\n",
    "plt.show()"
   ]
  },
  {
   "cell_type": "markdown",
   "metadata": {},
   "source": [
    "# Q1.1 Findings:\n",
    "\n",
    "While at first sight the not-so-bad accuracy score might induce us into thinking the model performs ok-ish, the other metrics prove otherwise. This is observable in the very high values of both false positives and false negatives displayed in the confusion matrix and reflected, crucially, on the F1 score, which is particularly important here since there is no clear different in the importance of getting a false positive or a false negative (unlike in other cases, such as cancer prediction models). \n",
    "\n",
    "In this case, the inbalance of the dataset (about 70/30 in favor of survivals) is clearly biasing the model towards predicting people would survive, which causes a lot of mispredictions.\n",
    "\n",
    "The 0.733 and 0.678 F1-score on the training and test sets, respectively, clearly show the model is not fitting the dataset well enough.\n",
    "\n",
    "---"
   ]
  },
  {
   "cell_type": "markdown",
   "metadata": {},
   "source": [
    "**Question 1.2 (10 points)** Perform 10-fold cross-validation Logistic regression on training set, and predict the survival of passgners in the test set. Report the accuracy, confusion matrix, precision, recall and F1 score on both training set and test set and explain whether you have fit the data well."
   ]
  },
  {
   "cell_type": "code",
   "execution_count": 20,
   "metadata": {},
   "outputs": [
    {
     "name": "stdout",
     "output_type": "stream",
     "text": [
      "Fold 1: Survivors: 257. Deaths: 141\n",
      "Fold 2: Survivors: 249. Deaths: 149\n",
      "Fold 3: Survivors: 258. Deaths: 140\n",
      "Fold 4: Survivors: 259. Deaths: 139\n",
      "Fold 5: Survivors: 251. Deaths: 147\n",
      "Fold 6: Survivors: 258. Deaths: 140\n",
      "Fold 7: Survivors: 255. Deaths: 143\n",
      "Fold 8: Survivors: 256. Deaths: 142\n",
      "Fold 9: Survivors: 257. Deaths: 141\n",
      "Fold 10: Survivors: 254. Deaths: 144\n",
      "\n",
      "\n",
      "Accuracy Scores - fraction of predictions the model got right:\n",
      "    Training set: 0.806\n",
      "    Test set: 0.791\n",
      "\n",
      "Precision Scores - ability of not to label as positive a sample that is negative:\n",
      "    Training set: 0.773\n",
      "    Test set: 0.741\n",
      "\n",
      "Recall Scores - ability to find all the positive samples:\n",
      "    Training set: 0.7\n",
      "    Test set: 0.694\n",
      "\n",
      "F1 Scores - weighted average of the precision and recall:\n",
      "    Training set: 0.735\n",
      "    Test set: 0.715\n",
      "\n"
     ]
    },
    {
     "data": {
      "image/png": "[encoded data removed]",
      "text/plain": [
       "<Figure size 864x432 with 4 Axes>"
      ]
     },
     "metadata": {
      "needs_background": "light"
     },
     "output_type": "display_data"
    }
   ],
   "source": [
    "from sklearn.model_selection import cross_validate, ShuffleSplit, cross_val_predict\n",
    "from scipy import stats\n",
    "\n",
    "# initializing the Logistic Regression model\n",
    "log_reg = LogisticRegression(solver=\"liblinear\", random_state=0)\n",
    "log_reg.fit(X_train, y_train)\n",
    "\n",
    "# making sure each fold is 20% test set and 80% training set (from the documentation)\n",
    "cv = ShuffleSplit(n_splits=10, test_size=0.2, random_state=0)\n",
    "\n",
    "# performing cross-validation on the training set\n",
    "scores = cross_validate(log_reg, X_train, y_train, scoring=('accuracy', 'precision', 'recall', 'f1'), cv=cv, return_train_score=True, return_estimator=True)\n",
    "\n",
    "y_pred_test_list = []\n",
    "y_pred_train_list = []\n",
    "\n",
    "for i, model in zip(range(0, len(scores['estimator'])), scores['estimator']):\n",
    "    y_pred_test = model.predict(X_test)\n",
    "    y_pred_train = model.predict(X_train)\n",
    "    \n",
    "    y_pred_test_list.append(y_pred_test)\n",
    "    y_pred_train_list.append(y_pred_train)\n",
    "    \n",
    "    print(f\"Fold {i+1}: Survivors: {len(y_pred_test) - sum(y_pred_test)}. Deaths: {sum(y_pred_test)}\") # predicting on the test set\n",
    "\n",
    "\n",
    "# accuracy\n",
    "print(f\"\"\"\\n\\nAccuracy Scores - fraction of predictions the model got right:\n",
    "    Training set: {round(abs(np.mean(scores['train_accuracy'])),3)}\n",
    "    Test set: {round(abs(np.mean(scores['test_accuracy'])),3)}\\n\"\"\")\n",
    "\n",
    "# precision\n",
    "print(f\"\"\"Precision Scores - ability of not to label as positive a sample that is negative:\n",
    "    Training set: {round(abs(np.mean(scores['train_precision'])),3)}\n",
    "    Test set: {round(abs(np.mean(scores['test_precision'])),3)}\\n\"\"\")\n",
    "\n",
    "# recall\n",
    "print(f\"\"\"Recall Scores - ability to find all the positive samples:\n",
    "    Training set: {round(abs(np.mean(scores['train_recall'])),2)}\n",
    "    Test set: {round(abs(np.mean(scores['test_recall'])),3)}\\n\"\"\")\n",
    "\n",
    "# F1\n",
    "print(f\"\"\"F1 Scores - weighted average of the precision and recall:\n",
    "    Training set: {round(abs(np.mean(scores['train_f1'])),3)}\n",
    "    Test set: {round(abs(np.mean(scores['test_f1'])),3)}\\n\"\"\")\n",
    "\n",
    "\n",
    "# confusion matrix with majority vote\n",
    "y_pred_test_mode = stats.mode(y_pred_test_list)[0][0]\n",
    "y_pred_train_mode = stats.mode(y_pred_train_list)[0][0]\n",
    "\n",
    "confusion_matrix_test = confusion_matrix(y_test, y_pred_test_mode, labels=[0, 1])\n",
    "confusion_matrix_train = confusion_matrix(y_train, y_pred_train_mode, labels=[0, 1])\n",
    "\n",
    "disp2 = ConfusionMatrixDisplay(confusion_matrix_test)\n",
    "disp1 = ConfusionMatrixDisplay(confusion_matrix_train)\n",
    "\n",
    "fig, (ax1, ax2) = plt.subplots(1, 2, figsize=(12, 6))\n",
    "\n",
    "disp1.plot(ax=ax1)\n",
    "disp2.plot(ax=ax2)\n",
    "\n",
    "ax2.set_title('\\nTest set - confusion matrix\\n')\n",
    "ax1.set_title('\\nTraining set - confusion matrix\\n')\n",
    "\n",
    "plt.show()"
   ]
  },
  {
   "cell_type": "markdown",
   "metadata": {},
   "source": [
    "# Q1.2 Findings:\n",
    "\n",
    "With cross-validation, the model becomes way less depedent on the random (or not so random, which is even worst) allocation of points to the training and test sets. Overall, this improved the model's perfomance quite substancially. Precision, the model's ability of not to classify as a survivor a passenger that died, increased consideraly, which is great. On the other hand, the recall did not increase that much.\n",
    "\n",
    "In general, the model now fits the data much better, but it's still not an optimal model.\n",
    "\n",
    "---"
   ]
  },
  {
   "cell_type": "markdown",
   "metadata": {},
   "source": [
    "**Question 1.3 (10 points)** Plot the ROC curve for the model learned in Question 1.2. What is the TPR and FPR when the probability threshold is 0.5. Adjust the probability threshold to 0.75, and then show TPR and FPR again. What is the AUC score under two different probability thresholds?"
   ]
  },
  {
   "cell_type": "code",
   "execution_count": 21,
   "metadata": {},
   "outputs": [],
   "source": [
    "from sklearn.metrics import roc_curve\n",
    "from sklearn.model_selection import cross_val_predict\n",
    "\n",
    "y_scores = cross_val_predict(log_reg, X_train, y_train, cv=10,\n",
    "                             method=\"decision_function\")\n",
    "\n",
    "fpr, tpr, thresholds = roc_curve(y_train, y_scores)"
   ]
  },
  {
   "cell_type": "code",
   "execution_count": 22,
   "metadata": {},
   "outputs": [
    {
     "data": {
      "image/png": "[encoded data removed]",
      "text/plain": [
       "<Figure size 576x432 with 1 Axes>"
      ]
     },
     "metadata": {
      "needs_background": "light"
     },
     "output_type": "display_data"
    }
   ],
   "source": [
    "def plot_roc_curve(fpr, tpr, label=None):\n",
    "    plt.plot(fpr, tpr, linewidth=2, label=label)\n",
    "    plt.plot([0, 1], [0, 1], 'k--')\n",
    "    plt.axis([-0.05, 1.05, -0.05, 1.05])\n",
    "    plt.xlabel('False Positive Rate', fontsize=16)\n",
    "    plt.ylabel('True Positive Rate', fontsize=16)\n",
    "\n",
    "plt.figure(figsize=(8, 6))\n",
    "plot_roc_curve(fpr, tpr)\n",
    "\n",
    "plt.show()"
   ]
  },
  {
   "cell_type": "code",
   "execution_count": 23,
   "metadata": {},
   "outputs": [
    {
     "data": {
      "text/html": [
       "<div>\n",
       "<style scoped>\n",
       "    .dataframe tbody tr th:only-of-type {\n",
       "        vertical-align: middle;\n",
       "    }\n",
       "\n",
       "    .dataframe tbody tr th {\n",
       "        vertical-align: top;\n",
       "    }\n",
       "\n",
       "    .dataframe thead th {\n",
       "        text-align: right;\n",
       "    }\n",
       "</style>\n",
       "<table border=\"1\" class=\"dataframe\">\n",
       "  <thead>\n",
       "    <tr style=\"text-align: right;\">\n",
       "      <th></th>\n",
       "      <th>FPR</th>\n",
       "      <th>TPR</th>\n",
       "      <th>thresholds</th>\n",
       "    </tr>\n",
       "  </thead>\n",
       "  <tbody>\n",
       "    <tr>\n",
       "      <th>0</th>\n",
       "      <td>0.000000</td>\n",
       "      <td>0.000000</td>\n",
       "      <td>4.938769</td>\n",
       "    </tr>\n",
       "    <tr>\n",
       "      <th>1</th>\n",
       "      <td>0.000000</td>\n",
       "      <td>0.002941</td>\n",
       "      <td>3.938769</td>\n",
       "    </tr>\n",
       "    <tr>\n",
       "      <th>2</th>\n",
       "      <td>0.000000</td>\n",
       "      <td>0.005882</td>\n",
       "      <td>3.476775</td>\n",
       "    </tr>\n",
       "    <tr>\n",
       "      <th>3</th>\n",
       "      <td>0.001821</td>\n",
       "      <td>0.005882</td>\n",
       "      <td>3.332350</td>\n",
       "    </tr>\n",
       "    <tr>\n",
       "      <th>4</th>\n",
       "      <td>0.001821</td>\n",
       "      <td>0.132353</td>\n",
       "      <td>2.548362</td>\n",
       "    </tr>\n",
       "    <tr>\n",
       "      <th>...</th>\n",
       "      <td>...</td>\n",
       "      <td>...</td>\n",
       "      <td>...</td>\n",
       "    </tr>\n",
       "    <tr>\n",
       "      <th>277</th>\n",
       "      <td>0.928962</td>\n",
       "      <td>0.994118</td>\n",
       "      <td>-2.800588</td>\n",
       "    </tr>\n",
       "    <tr>\n",
       "      <th>278</th>\n",
       "      <td>0.928962</td>\n",
       "      <td>0.997059</td>\n",
       "      <td>-2.801195</td>\n",
       "    </tr>\n",
       "    <tr>\n",
       "      <th>279</th>\n",
       "      <td>0.954463</td>\n",
       "      <td>0.997059</td>\n",
       "      <td>-2.976728</td>\n",
       "    </tr>\n",
       "    <tr>\n",
       "      <th>280</th>\n",
       "      <td>0.954463</td>\n",
       "      <td>1.000000</td>\n",
       "      <td>-2.986076</td>\n",
       "    </tr>\n",
       "    <tr>\n",
       "      <th>281</th>\n",
       "      <td>1.000000</td>\n",
       "      <td>1.000000</td>\n",
       "      <td>-5.163531</td>\n",
       "    </tr>\n",
       "  </tbody>\n",
       "</table>\n",
       "<p>282 rows × 3 columns</p>\n",
       "</div>"
      ],
      "text/plain": [
       "          FPR       TPR  thresholds\n",
       "0    0.000000  0.000000    4.938769\n",
       "1    0.000000  0.002941    3.938769\n",
       "2    0.000000  0.005882    3.476775\n",
       "3    0.001821  0.005882    3.332350\n",
       "4    0.001821  0.132353    2.548362\n",
       "..        ...       ...         ...\n",
       "277  0.928962  0.994118   -2.800588\n",
       "278  0.928962  0.997059   -2.801195\n",
       "279  0.954463  0.997059   -2.976728\n",
       "280  0.954463  1.000000   -2.986076\n",
       "281  1.000000  1.000000   -5.163531\n",
       "\n",
       "[282 rows x 3 columns]"
      ]
     },
     "execution_count": 23,
     "metadata": {},
     "output_type": "execute_result"
    }
   ],
   "source": [
    "roc_dic = { 'FPR': fpr, \"TPR\": tpr, 'thresholds': thresholds}\n",
    "roc_df = pd.DataFrame(roc_dic)\n",
    "roc_df"
   ]
  },
  {
   "cell_type": "markdown",
   "metadata": {},
   "source": [
    "## FPR and TPR for the 0.75 threshold"
   ]
  },
  {
   "cell_type": "code",
   "execution_count": 24,
   "metadata": {},
   "outputs": [
    {
     "data": {
      "text/html": [
       "<div>\n",
       "<style scoped>\n",
       "    .dataframe tbody tr th:only-of-type {\n",
       "        vertical-align: middle;\n",
       "    }\n",
       "\n",
       "    .dataframe tbody tr th {\n",
       "        vertical-align: top;\n",
       "    }\n",
       "\n",
       "    .dataframe thead th {\n",
       "        text-align: right;\n",
       "    }\n",
       "</style>\n",
       "<table border=\"1\" class=\"dataframe\">\n",
       "  <thead>\n",
       "    <tr style=\"text-align: right;\">\n",
       "      <th></th>\n",
       "      <th>FPR</th>\n",
       "      <th>TPR</th>\n",
       "      <th>thresholds</th>\n",
       "    </tr>\n",
       "  </thead>\n",
       "  <tbody>\n",
       "    <tr>\n",
       "      <th>42</th>\n",
       "      <td>0.045537</td>\n",
       "      <td>0.532353</td>\n",
       "      <td>0.74055</td>\n",
       "    </tr>\n",
       "  </tbody>\n",
       "</table>\n",
       "</div>"
      ],
      "text/plain": [
       "         FPR       TPR  thresholds\n",
       "42  0.045537  0.532353     0.74055"
      ]
     },
     "execution_count": 24,
     "metadata": {},
     "output_type": "execute_result"
    }
   ],
   "source": [
    "roc_df_75 = roc_df[(roc_df['thresholds']>0.74) & (roc_df['thresholds']<0.76)]\n",
    "roc_df_75"
   ]
  },
  {
   "cell_type": "markdown",
   "metadata": {},
   "source": [
    "## FPR and TPR for the 0.5 threshold"
   ]
  },
  {
   "cell_type": "code",
   "execution_count": 25,
   "metadata": {},
   "outputs": [
    {
     "data": {
      "text/html": [
       "<div>\n",
       "<style scoped>\n",
       "    .dataframe tbody tr th:only-of-type {\n",
       "        vertical-align: middle;\n",
       "    }\n",
       "\n",
       "    .dataframe tbody tr th {\n",
       "        vertical-align: top;\n",
       "    }\n",
       "\n",
       "    .dataframe thead th {\n",
       "        text-align: right;\n",
       "    }\n",
       "</style>\n",
       "<table border=\"1\" class=\"dataframe\">\n",
       "  <thead>\n",
       "    <tr style=\"text-align: right;\">\n",
       "      <th></th>\n",
       "      <th>FPR</th>\n",
       "      <th>TPR</th>\n",
       "      <th>thresholds</th>\n",
       "    </tr>\n",
       "  </thead>\n",
       "  <tbody>\n",
       "    <tr>\n",
       "      <th>67</th>\n",
       "      <td>0.07286</td>\n",
       "      <td>0.623529</td>\n",
       "      <td>0.490033</td>\n",
       "    </tr>\n",
       "  </tbody>\n",
       "</table>\n",
       "</div>"
      ],
      "text/plain": [
       "        FPR       TPR  thresholds\n",
       "67  0.07286  0.623529    0.490033"
      ]
     },
     "execution_count": 25,
     "metadata": {},
     "output_type": "execute_result"
    }
   ],
   "source": [
    "roc_df_50 = roc_df[(roc_df['thresholds']>0.49) & (roc_df['thresholds']<0.51)]\n",
    "roc_df_50"
   ]
  },
  {
   "cell_type": "markdown",
   "metadata": {},
   "source": [
    "## AUC Scores"
   ]
  },
  {
   "cell_type": "code",
   "execution_count": 26,
   "metadata": {},
   "outputs": [
    {
     "name": "stdout",
     "output_type": "stream",
     "text": [
      "Area Under Curve (AUC) Score: 0.85\n"
     ]
    }
   ],
   "source": [
    "from sklearn.metrics import roc_auc_score\n",
    "\n",
    "print(f'Area Under Curve (AUC) Score: {np.round(roc_auc_score(y_train, y_scores),2)}')"
   ]
  },
  {
   "cell_type": "markdown",
   "metadata": {},
   "source": [
    "Different thresholds mean looking at different points along the ROC curve rather than changes in the curve. Therefore, as the curve stays the same, so does the Area Under the Curve (AUC) - at 0.85. The only changes occur in the values of the FPR and TPR."
   ]
  },
  {
   "cell_type": "markdown",
   "metadata": {},
   "source": [
    "**Question 1.4 (10 points)** Show the learning curve (the accuracy with respect to training set size) when you are training using [10, 100, 10]% of samples using cross-validation (10%, 20%..., 90%, 100%). Explain whether your model would benefit from additional data."
   ]
  },
  {
   "cell_type": "code",
   "execution_count": 27,
   "metadata": {},
   "outputs": [
    {
     "data": {
      "image/png": "[encoded data removed]",
      "text/plain": [
       "<Figure size 720x360 with 1 Axes>"
      ]
     },
     "metadata": {
      "needs_background": "light"
     },
     "output_type": "display_data"
    }
   ],
   "source": [
    "from sklearn.model_selection import learning_curve\n",
    "\n",
    "train_sizes, train_scores, validation_scores = learning_curve(LogisticRegression\n",
    "                (solver= 'liblinear', random_state = 0), \n",
    "                X_train, y_train,  train_sizes = np.arange(0.1,1.1,0.1), cv = 10, scoring = 'accuracy')\n",
    "\n",
    "plt.figure(figsize=(10,5))\n",
    "plt.plot(train_sizes, train_scores.mean(axis=1), 'g')\n",
    "plt.plot(train_sizes, validation_scores.mean(axis=1), 'r')\n",
    "plt.xticks(train_sizes)\n",
    "plt.xlabel('Train Size')\n",
    "plt.ylabel('Accuracy')\n",
    "plt.title('Learning Curve')\n",
    "plt.legend(['Training Score', 'Validation Score'])\n",
    "plt.show()"
   ]
  },
  {
   "cell_type": "markdown",
   "metadata": {},
   "source": [
    "# Q1.4 Findings:\n",
    "\n",
    "- The distance between the curves (a red flag in what concerns overfitting) initially decreases heavily, meaning the model improves, providing first indications that as datapoints increase the model gets better;\n",
    "\n",
    "- While the training score drops quite consistently up until the 640 figure, which is normal because the model is converging to its true accuracy, it seems to start going up after that right at the end. The validation score also seems to start increasing as we increase the number of datapoints further, which are two strong indicators of betterment with the increase datapoints;\n",
    "\n",
    "- While it very hard to say with confidence and further tests should be conducted, it seems that the model would benefit from additional data.\n",
    "\n",
    "---"
   ]
  },
  {
   "cell_type": "markdown",
   "metadata": {},
   "source": [
    "## Question 2 (30 points) How many neighbors do you need?\n",
    "\n",
    "Let's try to train and fine-tune a K Nearest Neighbor model for the cancer dataset:"
   ]
  },
  {
   "cell_type": "code",
   "execution_count": 28,
   "metadata": {},
   "outputs": [],
   "source": [
    "from sklearn.datasets import load_breast_cancer\n",
    "data = load_breast_cancer()\n",
    "X, y = data.data, data.target"
   ]
  },
  {
   "cell_type": "markdown",
   "metadata": {},
   "source": [
    "We split it into a training set and a test set using train_test_split():"
   ]
  },
  {
   "cell_type": "code",
   "execution_count": 29,
   "metadata": {},
   "outputs": [],
   "source": [
    "from sklearn.model_selection import train_test_split\n",
    "\n",
    "X_train, X_test, y_train, y_test = train_test_split(X, y, test_size=0.2, random_state=0)"
   ]
  },
  {
   "cell_type": "markdown",
   "metadata": {},
   "source": [
    "**Question 2.1 (10 points)** Use grid search with cross-validation (with the help of the GridSearchCV from scikit-learn) to search hyperparameter values for a KNeighborsClassifier (e.g. number of neighbors from 2 to 50 neighbors). Plot the cross validation score with each number of neighbors. Expalin your findings."
   ]
  },
  {
   "cell_type": "code",
   "execution_count": 30,
   "metadata": {},
   "outputs": [
    {
     "data": {
      "image/png": "[encoded data removed]",
      "text/plain": [
       "<Figure size 432x288 with 1 Axes>"
      ]
     },
     "metadata": {
      "needs_background": "light"
     },
     "output_type": "display_data"
    }
   ],
   "source": [
    "from sklearn.model_selection import GridSearchCV\n",
    "from sklearn.neighbors import KNeighborsClassifier\n",
    "\n",
    "grid_params = {'n_neighbors': [i for i in range(2,50)]}\n",
    "\n",
    "gs = GridSearchCV(KNeighborsClassifier(), grid_params, n_jobs=-1)\n",
    "\n",
    "gs_results = gs.fit(X_train, y_train)\n",
    "\n",
    "scores = gs_results.cv_results_['mean_test_score']\n",
    "\n",
    "# plotting the scores as a function of the number of neighbors\n",
    "plt.plot(range(2, 50), scores)\n",
    "plt.show()"
   ]
  },
  {
   "cell_type": "markdown",
   "metadata": {},
   "source": [
    "# Q2.1 Findings:\n",
    "\n",
    "- The KNN algorithm operates on a majority vote of the nearest neighbors of each point.\n",
    "\n",
    "- From 2 until 9 neighbors, the cross validation score increases, meaning the model improves. This is because the increase in the number of neighbors is reducing the effect of noise in the data, reducing overffiting.\n",
    "\n",
    "- In the remaining part the cross-validation score decreases, meaning the model is generalizing worse, as the boundaries between classes become blurry. When the number of neighbors is too high, the boundaries between groups become so nuanced that significant groups of a certain class are considered noise. This happens because the neighborhood of each point starts containing more and more points of the opposite class.\n",
    "\n",
    "- Looking at the graph it becomes quite clear that the number of neighbors that returns the highest accuracy is 9.\n",
    "\n",
    "---"
   ]
  },
  {
   "cell_type": "markdown",
   "metadata": {},
   "source": [
    "**Question 2.2 (10 points)** Train it on the full training set using the best hyperparameters, and measure your model’s performance in tersm of accuracy, precision, recall and F1 score on the test set. You should get roughly 94% to 97% accuracy. How many number of neighbors do you have?"
   ]
  },
  {
   "cell_type": "code",
   "execution_count": 31,
   "metadata": {},
   "outputs": [
    {
     "name": "stdout",
     "output_type": "stream",
     "text": [
      "{'n_neighbors': 9}\n",
      "KNeighborsClassifier(n_neighbors=9)\n"
     ]
    }
   ],
   "source": [
    "# getting the number of neighbors\n",
    "\n",
    "print(gs_results.best_params_)\n",
    "print(gs_results.best_estimator_)\n",
    "\n",
    "gs_results.best_estimator_.fit(X_train, y_train)\n",
    "test_model = gs_results.best_estimator_.predict(X_test)\n",
    "\n",
    "scores1 = cross_validate(gs_results.best_estimator_, X_test, y_test, cv=10, scoring = [\"accuracy\", \"f1\", \"precision\", 'recall'], return_train_score=True, return_estimator=True)\n",
    "\n",
    "# Number of neighbors: 9"
   ]
  },
  {
   "cell_type": "code",
   "execution_count": 32,
   "metadata": {},
   "outputs": [
    {
     "name": "stdout",
     "output_type": "stream",
     "text": [
      "Accuracy Score - fraction of predictions the model got right:\n",
      "    Test set: 0.956\n",
      "\n",
      "Precision Score - ability of not to label as positive a sample that is negative:\n",
      "    Test set: 0.946\n",
      "\n",
      "Recall Score - ability to find all the positive samples:\n",
      "    Test set: 0.986\n",
      "\n",
      "F1 Score - weighted average of the precision and recall:\n",
      "    Test set: 0.966\n",
      "\n"
     ]
    }
   ],
   "source": [
    "# evaluating the model\n",
    "\n",
    "model = gs_results.best_estimator_\n",
    "\n",
    "y_pred_train= model.predict(X_train)\n",
    "y_pred_test = model.predict(X_test)\n",
    "\n",
    "score = model.score(X_test, y_test)\n",
    "\n",
    "# accuracy\n",
    "print(f\"\"\"Accuracy Score - fraction of predictions the model got right:\n",
    "    Test set: {round(accuracy_score(y_test, y_pred_test),3)}\\n\"\"\")\n",
    "\n",
    "# precision\n",
    "print(f\"\"\"Precision Score - ability of not to label as positive a sample that is negative:\n",
    "    Test set: {round(precision_score(y_test, y_pred_test),3)}\\n\"\"\")\n",
    "\n",
    "# recall\n",
    "print(f\"\"\"Recall Score - ability to find all the positive samples:\n",
    "    Test set: {round(recall_score(y_test, y_pred_test),3)}\\n\"\"\")\n",
    "\n",
    "# F1\n",
    "print(f\"\"\"F1 Score - weighted average of the precision and recall:\n",
    "    Test set: {round(f1_score(y_test, y_pred_test),3)}\\n\"\"\")"
   ]
  },
  {
   "cell_type": "markdown",
   "metadata": {},
   "source": [
    "**Question 2.3 (10 points)** Given a random patient (say patient 0, show the average characteristics of her/his nearest neighbors as well as the average distance to the patient 0, explain. "
   ]
  },
  {
   "cell_type": "code",
   "execution_count": 33,
   "metadata": {},
   "outputs": [
    {
     "name": "stdout",
     "output_type": "stream",
     "text": [
      "Random patient selected: 246\n",
      "\n",
      "\tAverage neighbor distance:\n",
      "85.75083397749977\n",
      "\n",
      "\tAll 9 neighbors' distances:\n",
      "[  0.          16.06923809  72.67240338  78.17092324  91.12526431\n",
      " 116.61757131 130.91317753 131.64960457 134.53932336]\n",
      "\n",
      "\n",
      "\tMean neighbor characteristics:\n",
      "\n",
      "[2.02833333e+01 2.24633333e+01 1.33666667e+02 1.28433333e+03\n",
      " 9.74733333e-02 1.36582222e-01 1.67544444e-01 1.00102222e-01\n",
      " 1.83200000e-01 5.90555556e-02 6.53044444e-01 1.01804444e+00\n",
      " 4.46500000e+00 8.31122222e+01 6.01033333e-03 2.70444444e-02\n",
      " 3.39988889e-02 1.39094444e-02 1.59355556e-02 3.56977778e-03\n",
      " 2.51333333e+01 3.08388889e+01 1.66511111e+02 1.93844444e+03\n",
      " 1.42766667e-01 3.63766667e-01 4.51211111e-01 2.05166667e-01\n",
      " 3.05444444e-01 9.02488889e-02]\n",
      "\n",
      "\tAll 9 neighbors' characteristics:\n",
      "\n",
      "[[2.064e+01 1.735e+01 1.348e+02 1.335e+03 9.446e-02 1.076e-01 1.527e-01\n",
      "  8.941e-02 1.571e-01 5.478e-02 6.137e-01 6.575e-01 4.119e+00 7.702e+01\n",
      "  6.211e-03 1.895e-02 2.681e-02 1.232e-02 1.276e-02 1.711e-03 2.537e+01\n",
      "  2.317e+01 1.668e+02 1.946e+03 1.562e-01 3.055e-01 4.159e-01 2.112e-01\n",
      "  2.689e-01 7.055e-02]\n",
      " [2.057e+01 1.777e+01 1.329e+02 1.326e+03 8.474e-02 7.864e-02 8.690e-02\n",
      "  7.017e-02 1.812e-01 5.667e-02 5.435e-01 7.339e-01 3.398e+00 7.408e+01\n",
      "  5.225e-03 1.308e-02 1.860e-02 1.340e-02 1.389e-02 3.532e-03 2.499e+01\n",
      "  2.341e+01 1.588e+02 1.956e+03 1.238e-01 1.866e-01 2.416e-01 1.860e-01\n",
      "  2.750e-01 8.902e-02]\n",
      " [2.034e+01 2.151e+01 1.359e+02 1.264e+03 1.170e-01 1.875e-01 2.565e-01\n",
      "  1.504e-01 2.569e-01 6.670e-02 5.702e-01 1.023e+00 4.012e+00 6.906e+01\n",
      "  5.485e-03 2.431e-02 3.190e-02 1.369e-02 2.768e-02 3.345e-03 2.530e+01\n",
      "  3.186e+01 1.711e+02 1.938e+03 1.592e-01 4.492e-01 5.344e-01 2.685e-01\n",
      "  5.558e-01 1.024e-01]\n",
      " [2.051e+01 2.781e+01 1.344e+02 1.319e+03 9.159e-02 1.074e-01 1.554e-01\n",
      "  8.340e-02 1.448e-01 5.592e-02 5.240e-01 1.189e+00 3.767e+00 7.001e+01\n",
      "  5.020e-03 2.062e-02 3.457e-02 1.091e-02 1.298e-02 2.887e-03 2.447e+01\n",
      "  3.738e+01 1.627e+02 1.872e+03 1.223e-01 2.761e-01 4.146e-01 1.563e-01\n",
      "  2.437e-01 8.328e-02]\n",
      " [2.110e+01 2.052e+01 1.381e+02 1.384e+03 9.684e-02 1.175e-01 1.572e-01\n",
      "  1.155e-01 1.554e-01 5.661e-02 6.643e-01 1.361e+00 4.542e+00 8.189e+01\n",
      "  5.467e-03 2.075e-02 3.185e-02 1.466e-02 1.029e-02 2.205e-03 2.568e+01\n",
      "  3.207e+01 1.682e+02 2.022e+03 1.368e-01 3.101e-01 4.399e-01 2.280e-01\n",
      "  2.268e-01 7.425e-02]\n",
      " [2.031e+01 2.706e+01 1.329e+02 1.288e+03 1.000e-01 1.088e-01 1.519e-01\n",
      "  9.333e-02 1.814e-01 5.572e-02 3.977e-01 1.033e+00 2.587e+00 5.234e+01\n",
      "  5.043e-03 1.578e-02 2.117e-02 8.185e-03 1.282e-02 1.892e-03 2.433e+01\n",
      "  3.916e+01 1.623e+02 1.844e+03 1.522e-01 2.945e-01 3.788e-01 1.697e-01\n",
      "  3.151e-01 7.999e-02]\n",
      " [1.973e+01 1.982e+01 1.307e+02 1.206e+03 1.062e-01 1.849e-01 2.417e-01\n",
      "  9.740e-02 1.733e-01 6.697e-02 7.661e-01 7.800e-01 4.115e+00 9.281e+01\n",
      "  8.482e-03 5.057e-02 6.800e-02 1.971e-02 1.467e-02 7.259e-03 2.528e+01\n",
      "  2.559e+01 1.598e+02 1.933e+03 1.710e-01 5.955e-01 8.489e-01 2.507e-01\n",
      "  2.749e-01 1.297e-01]\n",
      " [1.980e+01 2.156e+01 1.297e+02 1.230e+03 9.383e-02 1.306e-01 1.272e-01\n",
      "  8.691e-02 2.094e-01 5.581e-02 9.553e-01 1.186e+00 6.487e+00 1.244e+02\n",
      "  6.804e-03 3.169e-02 3.446e-02 1.712e-02 1.897e-02 4.045e-03 2.573e+01\n",
      "  2.864e+01 1.703e+02 2.009e+03 1.353e-01 3.235e-01 3.617e-01 1.820e-01\n",
      "  3.070e-01 8.255e-02]\n",
      " [1.955e+01 2.877e+01 1.336e+02 1.207e+03 9.260e-02 2.063e-01 1.784e-01\n",
      "  1.144e-01 1.893e-01 6.232e-02 8.426e-01 1.199e+00 7.158e+00 1.064e+02\n",
      "  6.356e-03 4.765e-02 3.863e-02 1.519e-02 1.936e-02 5.252e-03 2.505e+01\n",
      "  3.627e+01 1.786e+02 1.926e+03 1.281e-01 5.329e-01 4.251e-01 1.941e-01\n",
      "  2.818e-01 1.005e-01]]\n"
     ]
    }
   ],
   "source": [
    "import random\n",
    "\n",
    "distances, values_ix = model.kneighbors(X_train)\n",
    "\n",
    "random_patient = random.randint(0, len(X_train))\n",
    "\n",
    "print(f'Random patient selected: {random_patient}\\n')\n",
    "\n",
    "print(f'\\tAverage neighbor distance:\\n{np.mean(distances[random_patient])}\\n')\n",
    "print(f\"\\tAll 9 neighbors' distances:\\n{distances[random_patient]}\\n\\n\")\n",
    "\n",
    "print(f\"\\tMean neighbor characteristics:\\n\\n{np.mean(X_train[values_ix[random_patient]], axis=0)}\\n\")\n",
    "print(f\"\\tAll 9 neighbors' characteristics:\\n\\n{X_train[values_ix[random_patient]]}\")"
   ]
  },
  {
   "cell_type": "markdown",
   "metadata": {},
   "source": [
    "# Q2.3 Explanation:\n",
    "\n",
    "- Since this is a KNN  model, the diagnosis of the random patient will be equal to the majority vote of the diagnosis of its 9 nearest neighbors.\n",
    "\n",
    "- This method assumes, of course, that datapoints that are close share the same characteristics when it comes to the outcome.\n",
    "\n",
    "- Above are represented the distances between a random patient and its 9 neighbors (best number of neighbors) as well as the values of the features of those neighbors.\n",
    "\n",
    "---"
   ]
  },
  {
   "cell_type": "markdown",
   "metadata": {},
   "source": [
    "## Question 3 (30 points) Trees and Forest?\n",
    "\n",
    "Let's try to try to manually create with random forest models for the moon dataset:"
   ]
  },
  {
   "cell_type": "code",
   "execution_count": 34,
   "metadata": {},
   "outputs": [],
   "source": [
    "from sklearn.datasets import make_moons\n",
    "\n",
    "X, y = make_moons(n_samples=10000, noise=0.4, random_state=0)"
   ]
  },
  {
   "cell_type": "markdown",
   "metadata": {},
   "source": [
    "The generated random moons dataset looks like two interleaving half circles:"
   ]
  },
  {
   "cell_type": "code",
   "execution_count": 35,
   "metadata": {},
   "outputs": [
    {
     "data": {
      "image/png": "[encoded data removed]",
      "text/plain": [
       "<Figure size 432x288 with 1 Axes>"
      ]
     },
     "metadata": {
      "needs_background": "light"
     },
     "output_type": "display_data"
    }
   ],
   "source": [
    "df = pd.DataFrame(dict(x=X[:,0], y=X[:,1], label=y))\n",
    "colors = {0:'red', 1:'blue'}\n",
    "fig, ax = plt.subplots()\n",
    "grouped = df.groupby('label')\n",
    "for key, group in grouped:\n",
    "    group.plot(ax=ax, kind='scatter', x='x', y='y', label=key, color=colors[key])\n",
    "plt.show()"
   ]
  },
  {
   "cell_type": "markdown",
   "metadata": {},
   "source": [
    "**Question 3.1 (15 points)** generate 1,000 subsets of the training set, each containing 100 instances selected randomly (Hint: you can use Scikit-Learn’s ShuffleSplit class for this.)  Train one Decision Tree on each subset, using the best hyperparameter values (max_leaf_nodes=17 and min_samples_split=2). Evaluate these 1,000 Decision Trees on the test set. Since they were trained on smaller sets, these Decision Trees will likely perform worse than the first Decision Tree."
   ]
  },
  {
   "cell_type": "code",
   "execution_count": 36,
   "metadata": {},
   "outputs": [],
   "source": [
    "import numpy as np\n",
    "import sklearn\n",
    "from sklearn.model_selection import ShuffleSplit, ShuffleSplit\n",
    "from sklearn.tree import DecisionTreeClassifier, plot_tree"
   ]
  },
  {
   "cell_type": "code",
   "execution_count": 40,
   "metadata": {},
   "outputs": [
    {
     "name": "stdout",
     "output_type": "stream",
     "text": [
      "0.848\n"
     ]
    }
   ],
   "source": [
    "# Training on the whole training set\n",
    "\n",
    "X_train, X_test, y_train, y_test = train_test_split(X, y, test_size=0.2, random_state=0)\n",
    "\n",
    "params = {'max_leaf_nodes': list(range(2, 18)), 'min_samples_split': (list(range(2, 10)))}\n",
    "\n",
    "grid = GridSearchCV(estimator = DecisionTreeClassifier(), \n",
    "                    param_grid = params)\n",
    "\n",
    "model = grid.fit(X_train, y_train)\n",
    "y_pred_test = model.predict(X_test)\n",
    "\n",
    "print(round(accuracy_score(y_test, y_pred_test), 3))"
   ]
  },
  {
   "cell_type": "code",
   "execution_count": 41,
   "metadata": {},
   "outputs": [
    {
     "name": "stdout",
     "output_type": "stream",
     "text": [
      "0.799\n"
     ]
    }
   ],
   "source": [
    "# Training the 1000 trees with each 100-points subset with a majority-vote at the end\n",
    "\n",
    "rs = ShuffleSplit(n_splits=1000, train_size=100, test_size=20, random_state=0)\n",
    "\n",
    "train_subsets = []\n",
    "for train_index, test_index in rs.split(X_train,y_train):\n",
    "    train_subsets.append((X_train[train_index], y_train[train_index]))\n",
    "\n",
    "forest = []\n",
    "for i in range(1000):\n",
    "    forest.append(sklearn.base.clone(grid.best_estimator_))\n",
    "    \n",
    "scores = []\n",
    "for tree, (X_subset, y_subset) in zip(forest, subsets):\n",
    "    tree.fit(X_subset,y_subset)\n",
    "    y_pred = tree.predict(X_test)\n",
    "    scores.append(accuracy_score(y_test,y_pred))\n",
    "\n",
    "print(round(np.mean(scores), 3))"
   ]
  },
  {
   "cell_type": "markdown",
   "metadata": {},
   "source": [
    "**Question 3.2 (15 points)** For each test set instance, generate the predictions of the 1,000 Decision Trees, and keep only the most frequent prediction (you can use SciPy’s mode() function for this). This gives you majority-vote predictions over the test set. Evaluate these predictions on the test set: you should obtain a slightly higher accuracy than your first model (about 0.5 to 1% higher)."
   ]
  },
  {
   "cell_type": "code",
   "execution_count": 42,
   "metadata": {},
   "outputs": [
    {
     "data": {
      "text/plain": [
       "0.859"
      ]
     },
     "execution_count": 42,
     "metadata": {},
     "output_type": "execute_result"
    }
   ],
   "source": [
    "from scipy import stats\n",
    "\n",
    "pred_list = []\n",
    "for tree, (X_subset, y_subset) in zip(forest, subsets):\n",
    "    tree.fit(X_subset,y_subset)\n",
    "    pred_list.append(tree.predict(X_test))\n",
    "    mode_pred = stats.mode(pred_list)[0][0]\n",
    "\n",
    "accuracy_score(y_test, mode_pred)"
   ]
  }
 ],
 "metadata": {
  "kernelspec": {
   "display_name": "Python 3",
   "language": "python",
   "name": "python3"
  },
  "language_info": {
   "codemirror_mode": {
    "name": "ipython",
    "version": 3
   },
   "file_extension": ".py",
   "mimetype": "text/x-python",
   "name": "python",
   "nbconvert_exporter": "python",
   "pygments_lexer": "ipython3",
   "version": "3.8.3"
  }
 },
 "nbformat": 4,
 "nbformat_minor": 4
}
