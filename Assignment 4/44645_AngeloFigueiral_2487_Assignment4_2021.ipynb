{
 "cells": [
  {
   "cell_type": "markdown",
   "metadata": {},
   "source": [
    "# Assignment 4\n",
    "\n",
    "The assignment 4 contains 3 questions and the due date is May 9th (Sunday) 23:59PM."
   ]
  },
  {
   "cell_type": "markdown",
   "metadata": {},
   "source": [
    "## Question 1 Customer Segmentation\n",
    "\n",
    "The management team of a large shopping mall would like to understand the types of people who are, or could be, visiting their mall. They have good reasons to believe that there are a few different market segments, and they are considering designing and positioning the shopping mall services better in order to attract mainly a few profitable market segments, or to differentiate their services (e.g. invitations to events, discounts, etc) across market segments.\n",
    "\n",
    "We aim to describe attitudes of people to shopping in a shopping mall using a small dataset (`Mall_Visits.csv`). To make these decisions, the management team run a market research survey of a few potential customers. In this case this was a small survey to only a few people, where each person answered six attitudinal questions and a question regarding how often they visit the mall, all on a scale 1-7, as well as one question regarding their household income:\n",
    "\n",
    "| Name        | Name           | Name  |\n",
    "| ------------- |:-------------:| -----:|\n",
    "| V1     | Shopping is fun | 1-7 |\n",
    "| V2      | Shopping is bad for your budget      |  1-7 |\n",
    "| V3 | I combine shopping with eating out      |    1-7 |\n",
    "| V4     | I try to get the best buys while shopping | 1-7 |\n",
    "| V5      | I don’t care about shopping      |  1-7 |\n",
    "| V6 | You can save lot of money by comparing prices      |    1-7 |\n",
    "| Income      | The household income of the respondent      |  Dollars |\n",
    "| Mall.Visits | How often they visit the mall      |    1-7 |\n"
   ]
  },
  {
   "cell_type": "code",
   "execution_count": 1,
   "metadata": {},
   "outputs": [],
   "source": [
    "import pandas as pd\n",
    "import numpy as np\n",
    "import matplotlib.pyplot as plt\n",
    "\n",
    "%matplotlib inline"
   ]
  },
  {
   "cell_type": "code",
   "execution_count": 3,
   "metadata": {},
   "outputs": [
    {
     "data": {
      "text/html": [
       "<div>\n",
       "<style scoped>\n",
       "    .dataframe tbody tr th:only-of-type {\n",
       "        vertical-align: middle;\n",
       "    }\n",
       "\n",
       "    .dataframe tbody tr th {\n",
       "        vertical-align: top;\n",
       "    }\n",
       "\n",
       "    .dataframe thead th {\n",
       "        text-align: right;\n",
       "    }\n",
       "</style>\n",
       "<table border=\"1\" class=\"dataframe\">\n",
       "  <thead>\n",
       "    <tr style=\"text-align: right;\">\n",
       "      <th></th>\n",
       "      <th>ID</th>\n",
       "      <th>V1</th>\n",
       "      <th>V2</th>\n",
       "      <th>V3</th>\n",
       "      <th>V4</th>\n",
       "      <th>V5</th>\n",
       "      <th>V6</th>\n",
       "      <th>Income</th>\n",
       "      <th>Mall.Visits</th>\n",
       "    </tr>\n",
       "  </thead>\n",
       "  <tbody>\n",
       "    <tr>\n",
       "      <th>0</th>\n",
       "      <td>1</td>\n",
       "      <td>6</td>\n",
       "      <td>4</td>\n",
       "      <td>7</td>\n",
       "      <td>3</td>\n",
       "      <td>2</td>\n",
       "      <td>3</td>\n",
       "      <td>60000</td>\n",
       "      <td>3</td>\n",
       "    </tr>\n",
       "    <tr>\n",
       "      <th>1</th>\n",
       "      <td>2</td>\n",
       "      <td>2</td>\n",
       "      <td>3</td>\n",
       "      <td>1</td>\n",
       "      <td>4</td>\n",
       "      <td>5</td>\n",
       "      <td>4</td>\n",
       "      <td>30000</td>\n",
       "      <td>1</td>\n",
       "    </tr>\n",
       "    <tr>\n",
       "      <th>2</th>\n",
       "      <td>3</td>\n",
       "      <td>7</td>\n",
       "      <td>2</td>\n",
       "      <td>6</td>\n",
       "      <td>4</td>\n",
       "      <td>1</td>\n",
       "      <td>3</td>\n",
       "      <td>70000</td>\n",
       "      <td>3</td>\n",
       "    </tr>\n",
       "    <tr>\n",
       "      <th>3</th>\n",
       "      <td>4</td>\n",
       "      <td>4</td>\n",
       "      <td>6</td>\n",
       "      <td>4</td>\n",
       "      <td>5</td>\n",
       "      <td>3</td>\n",
       "      <td>6</td>\n",
       "      <td>30000</td>\n",
       "      <td>7</td>\n",
       "    </tr>\n",
       "    <tr>\n",
       "      <th>4</th>\n",
       "      <td>5</td>\n",
       "      <td>1</td>\n",
       "      <td>3</td>\n",
       "      <td>2</td>\n",
       "      <td>2</td>\n",
       "      <td>6</td>\n",
       "      <td>4</td>\n",
       "      <td>60000</td>\n",
       "      <td>1</td>\n",
       "    </tr>\n",
       "  </tbody>\n",
       "</table>\n",
       "</div>"
      ],
      "text/plain": [
       "   ID  V1  V2  V3  V4  V5  V6  Income  Mall.Visits\n",
       "0   1   6   4   7   3   2   3   60000            3\n",
       "1   2   2   3   1   4   5   4   30000            1\n",
       "2   3   7   2   6   4   1   3   70000            3\n",
       "3   4   4   6   4   5   3   6   30000            7\n",
       "4   5   1   3   2   2   6   4   60000            1"
      ]
     },
     "execution_count": 3,
     "metadata": {},
     "output_type": "execute_result"
    }
   ],
   "source": [
    "mall_visit = pd.read_csv('Mall_Visits.csv')\n",
    "mall_visit.head()"
   ]
  },
  {
   "cell_type": "code",
   "execution_count": 4,
   "metadata": {},
   "outputs": [
    {
     "data": {
      "text/html": [
       "<div>\n",
       "<style scoped>\n",
       "    .dataframe tbody tr th:only-of-type {\n",
       "        vertical-align: middle;\n",
       "    }\n",
       "\n",
       "    .dataframe tbody tr th {\n",
       "        vertical-align: top;\n",
       "    }\n",
       "\n",
       "    .dataframe thead th {\n",
       "        text-align: right;\n",
       "    }\n",
       "</style>\n",
       "<table border=\"1\" class=\"dataframe\">\n",
       "  <thead>\n",
       "    <tr style=\"text-align: right;\">\n",
       "      <th></th>\n",
       "      <th>ID</th>\n",
       "      <th>V1</th>\n",
       "      <th>V2</th>\n",
       "      <th>V3</th>\n",
       "      <th>V4</th>\n",
       "      <th>V5</th>\n",
       "      <th>V6</th>\n",
       "      <th>Income</th>\n",
       "      <th>Mall.Visits</th>\n",
       "    </tr>\n",
       "  </thead>\n",
       "  <tbody>\n",
       "    <tr>\n",
       "      <th>count</th>\n",
       "      <td>40.000000</td>\n",
       "      <td>40.000000</td>\n",
       "      <td>40.000000</td>\n",
       "      <td>40.000000</td>\n",
       "      <td>40.000000</td>\n",
       "      <td>40.0000</td>\n",
       "      <td>40.000000</td>\n",
       "      <td>40.00000</td>\n",
       "      <td>40.00000</td>\n",
       "    </tr>\n",
       "    <tr>\n",
       "      <th>mean</th>\n",
       "      <td>20.500000</td>\n",
       "      <td>3.850000</td>\n",
       "      <td>4.100000</td>\n",
       "      <td>3.950000</td>\n",
       "      <td>4.100000</td>\n",
       "      <td>3.4500</td>\n",
       "      <td>4.350000</td>\n",
       "      <td>46000.00000</td>\n",
       "      <td>3.25000</td>\n",
       "    </tr>\n",
       "    <tr>\n",
       "      <th>std</th>\n",
       "      <td>11.690452</td>\n",
       "      <td>1.874936</td>\n",
       "      <td>1.392286</td>\n",
       "      <td>1.986493</td>\n",
       "      <td>1.498717</td>\n",
       "      <td>1.7387</td>\n",
       "      <td>1.477177</td>\n",
       "      <td>17216.56924</td>\n",
       "      <td>1.94475</td>\n",
       "    </tr>\n",
       "    <tr>\n",
       "      <th>min</th>\n",
       "      <td>1.000000</td>\n",
       "      <td>1.000000</td>\n",
       "      <td>2.000000</td>\n",
       "      <td>1.000000</td>\n",
       "      <td>2.000000</td>\n",
       "      <td>1.0000</td>\n",
       "      <td>2.000000</td>\n",
       "      <td>25000.00000</td>\n",
       "      <td>0.00000</td>\n",
       "    </tr>\n",
       "    <tr>\n",
       "      <th>25%</th>\n",
       "      <td>10.750000</td>\n",
       "      <td>2.000000</td>\n",
       "      <td>3.000000</td>\n",
       "      <td>2.000000</td>\n",
       "      <td>3.000000</td>\n",
       "      <td>2.0000</td>\n",
       "      <td>3.000000</td>\n",
       "      <td>30000.00000</td>\n",
       "      <td>2.00000</td>\n",
       "    </tr>\n",
       "    <tr>\n",
       "      <th>50%</th>\n",
       "      <td>20.500000</td>\n",
       "      <td>4.000000</td>\n",
       "      <td>4.000000</td>\n",
       "      <td>4.000000</td>\n",
       "      <td>4.000000</td>\n",
       "      <td>3.5000</td>\n",
       "      <td>4.000000</td>\n",
       "      <td>42500.00000</td>\n",
       "      <td>3.00000</td>\n",
       "    </tr>\n",
       "    <tr>\n",
       "      <th>75%</th>\n",
       "      <td>30.250000</td>\n",
       "      <td>5.250000</td>\n",
       "      <td>5.000000</td>\n",
       "      <td>6.000000</td>\n",
       "      <td>5.250000</td>\n",
       "      <td>4.2500</td>\n",
       "      <td>5.250000</td>\n",
       "      <td>60000.00000</td>\n",
       "      <td>4.25000</td>\n",
       "    </tr>\n",
       "    <tr>\n",
       "      <th>max</th>\n",
       "      <td>40.000000</td>\n",
       "      <td>7.000000</td>\n",
       "      <td>7.000000</td>\n",
       "      <td>7.000000</td>\n",
       "      <td>7.000000</td>\n",
       "      <td>7.0000</td>\n",
       "      <td>7.000000</td>\n",
       "      <td>80000.00000</td>\n",
       "      <td>7.00000</td>\n",
       "    </tr>\n",
       "  </tbody>\n",
       "</table>\n",
       "</div>"
      ],
      "text/plain": [
       "              ID         V1         V2         V3         V4       V5  \\\n",
       "count  40.000000  40.000000  40.000000  40.000000  40.000000  40.0000   \n",
       "mean   20.500000   3.850000   4.100000   3.950000   4.100000   3.4500   \n",
       "std    11.690452   1.874936   1.392286   1.986493   1.498717   1.7387   \n",
       "min     1.000000   1.000000   2.000000   1.000000   2.000000   1.0000   \n",
       "25%    10.750000   2.000000   3.000000   2.000000   3.000000   2.0000   \n",
       "50%    20.500000   4.000000   4.000000   4.000000   4.000000   3.5000   \n",
       "75%    30.250000   5.250000   5.000000   6.000000   5.250000   4.2500   \n",
       "max    40.000000   7.000000   7.000000   7.000000   7.000000   7.0000   \n",
       "\n",
       "              V6       Income  Mall.Visits  \n",
       "count  40.000000     40.00000     40.00000  \n",
       "mean    4.350000  46000.00000      3.25000  \n",
       "std     1.477177  17216.56924      1.94475  \n",
       "min     2.000000  25000.00000      0.00000  \n",
       "25%     3.000000  30000.00000      2.00000  \n",
       "50%     4.000000  42500.00000      3.00000  \n",
       "75%     5.250000  60000.00000      4.25000  \n",
       "max     7.000000  80000.00000      7.00000  "
      ]
     },
     "execution_count": 4,
     "metadata": {},
     "output_type": "execute_result"
    }
   ],
   "source": [
    "mall_visit.describe()"
   ]
  },
  {
   "cell_type": "markdown",
   "metadata": {},
   "source": [
    "### Question 1.1 (5 points) \n",
    "\n",
    "Perform customer segmentation using k-Means algorithm by setting k=1. What can we infer from customer segmentation with one cluster? Explain this using the obtained centroid of cluster."
   ]
  },
  {
   "cell_type": "code",
   "execution_count": null,
   "metadata": {},
   "outputs": [],
   "source": []
  },
  {
   "cell_type": "markdown",
   "metadata": {},
   "source": [
    "### Question 1.2 (10 points)\n",
    "\n",
    "Now perform customer segmentation by setting the number of k to be 3. Explain the obtained clusters. Check the distribution of each feature across the clusters and see whether these features are statisically significantly different from each other. "
   ]
  },
  {
   "cell_type": "code",
   "execution_count": null,
   "metadata": {},
   "outputs": [],
   "source": []
  },
  {
   "cell_type": "markdown",
   "metadata": {},
   "source": [
    "### Question 1.3 (5 points)\n",
    "\n",
    "Now perform customer segmentation by setting the number of k using the Elbow method and metrics of inertia, respectively. Explain what would be the k you get."
   ]
  },
  {
   "cell_type": "code",
   "execution_count": null,
   "metadata": {},
   "outputs": [],
   "source": []
  },
  {
   "cell_type": "markdown",
   "metadata": {},
   "source": [
    "## Question 2 Birds of a feather laugh together\n",
    "\n",
    "Jester is a research project from the UC Berkeley Laboratory for Automation Science and Engineering. Users are asked to rate the jokes they read and may see more similar jokes. The dataset `jester_dataset.zip`, when unzipped, they are in Excel (.xls) format that contains ratings from 23,500 users who have rated 36 or more jokes. Ratings are real values ranging from -10.00 to +10.00 (the value \"99\" corresponds to \"null\" = \"not rated\"). The text of the jokes is given `jester_dataset_joke_text.zip`. The first column gives the number of jokes rated by that user. The next 100 columns give the ratings for jokes 01 - 100."
   ]
  },
  {
   "cell_type": "code",
   "execution_count": null,
   "metadata": {},
   "outputs": [],
   "source": []
  },
  {
   "cell_type": "markdown",
   "metadata": {},
   "source": [
    "### Question 2.1 (10 points) \n",
    "\n",
    "Build a user-based collaborative filtering and provide a list of top 5 jokes for the first user. Check the text of jokes to see if the recommendations are sensible. "
   ]
  },
  {
   "cell_type": "code",
   "execution_count": null,
   "metadata": {},
   "outputs": [],
   "source": []
  },
  {
   "cell_type": "markdown",
   "metadata": {},
   "source": [
    "### Question 2.2 (10 points) \n",
    "\n",
    "Build a item-based collaborative filtering and provide a list of top 5 jokes for the first user. Check the text of jokes to see if the recommendations are sensible."
   ]
  },
  {
   "cell_type": "code",
   "execution_count": null,
   "metadata": {},
   "outputs": [],
   "source": []
  },
  {
   "cell_type": "markdown",
   "metadata": {},
   "source": [
    "### Question 2.3 (10 points) \n",
    "\n",
    "Now build a recommendation system using matrix factorization (singular value decomposition). Get a list of top 5 jokes for the first user. Explain whether model-based recoomendation approach is better than neighborhood-based approach. Write a function that takes the parameter of user_id and return the text of recommended jokes)"
   ]
  },
  {
   "cell_type": "code",
   "execution_count": null,
   "metadata": {},
   "outputs": [],
   "source": []
  },
  {
   "cell_type": "markdown",
   "metadata": {},
   "source": [
    "## Question 3 Training a deep neural network (50 points)\n",
    "\n",
    "Practice training a deep neural network on the CIFAR10 image dataset:\n"
   ]
  },
  {
   "cell_type": "code",
   "execution_count": 33,
   "metadata": {},
   "outputs": [],
   "source": [
    "# TensorFlow ≥2.0 is required\n",
    "import tensorflow as tf\n",
    "from tensorflow import keras\n",
    "assert tf.__version__ >= \"2.0\"\n",
    "\n",
    "\n",
    "keras.backend.clear_session()\n",
    "tf.random.set_seed(42)\n",
    "np.random.seed(42)\n",
    "\n",
    "(X_train_full, y_train_full), (X_test, y_test) = keras.datasets.cifar10.load_data()\n",
    "\n",
    "X_train = X_train_full[5000:]\n",
    "y_train = y_train_full[5000:]\n",
    "X_valid = X_train_full[:5000]\n",
    "y_valid = y_train_full[:5000]"
   ]
  },
  {
   "cell_type": "markdown",
   "metadata": {},
   "source": [
    "### Question 3.1 (10 points) \n",
    "\n",
    "Build a Deep Neural Network (DNN) with 20 hidden layers of 100 neurons each (that’s too many, but it’s the point of this question), using the RELU activation function.\n",
    "\n",
    "Using Adam optimization, train the network on the CIFAR10 dataset. You can load it with keras.datasets.cifar10.load_ data() (see code below). The dataset is composed of 60,000 32 × 32–pixel color images (50,000 for training, 5000 of which is for validation, 10,000 for testing) with 10 classes using sparse_categorical_crossentropy loss function , so you’ll need a softmax output layer with 10 neurons. \n",
    "\n",
    "Train the model for 100 epochs, explain whether the model will experience overfitting. "
   ]
  },
  {
   "cell_type": "code",
   "execution_count": null,
   "metadata": {},
   "outputs": [],
   "source": []
  },
  {
   "cell_type": "markdown",
   "metadata": {},
   "source": [
    "### Question 3.2 (10 points)\n",
    "\n",
    "Try reduce the overfitting with weight regularization. You can try to add a L2-norm penalty term as the kernel_regularizer. Repeat the previous training process and explain whether regularization helps achieve a better result."
   ]
  },
  {
   "cell_type": "code",
   "execution_count": null,
   "metadata": {},
   "outputs": [],
   "source": []
  },
  {
   "cell_type": "markdown",
   "metadata": {},
   "source": [
    "### Question 3.3 (10 points)\n",
    "\n",
    "Now try adding Batch Normalization and compare the learning curves: Is it converging faster than before? Does it produce a better model? How does it affect training speed?"
   ]
  },
  {
   "cell_type": "code",
   "execution_count": null,
   "metadata": {},
   "outputs": [],
   "source": []
  },
  {
   "cell_type": "markdown",
   "metadata": {},
   "source": [
    "### Question 3.4 (10 points)\n",
    "\n",
    "Try regularizing the model with dropout. Then, without retraining your model, see if you can achieve better accuracy using different rate of Dropout."
   ]
  },
  {
   "cell_type": "code",
   "execution_count": null,
   "metadata": {},
   "outputs": [],
   "source": []
  },
  {
   "cell_type": "markdown",
   "metadata": {},
   "source": [
    "### Question 3.5 (10 points) \n",
    "\n",
    "Add Earlystopping to the model and save the model at the early stopping epoch using the callbacks. \n",
    "\n",
    "Last, load the model and evaluate on the test set."
   ]
  },
  {
   "cell_type": "code",
   "execution_count": null,
   "metadata": {},
   "outputs": [],
   "source": []
  }
 ],
 "metadata": {
  "kernelspec": {
   "display_name": "Python 3",
   "language": "python",
   "name": "python3"
  },
  "language_info": {
   "codemirror_mode": {
    "name": "ipython",
    "version": 3
   },
   "file_extension": ".py",
   "mimetype": "text/x-python",
   "name": "python",
   "nbconvert_exporter": "python",
   "pygments_lexer": "ipython3",
   "version": "3.8.3"
  }
 },
 "nbformat": 4,
 "nbformat_minor": 4
}
